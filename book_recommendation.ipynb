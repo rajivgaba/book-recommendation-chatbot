{
 "cells": [
  {
   "cell_type": "markdown",
   "metadata": {
    "colab_type": "text",
    "id": "view-in-github"
   },
   "source": [
    "<a href=\"https://colab.research.google.com/github/rajivgaba/book-recommendation-chatbot/blob/main/book_recommendation.ipynb\" target=\"_parent\"><img src=\"https://colab.research.google.com/assets/colab-badge.svg\" alt=\"Open In Colab\"/></a>"
   ]
  },
  {
   "cell_type": "code",
   "execution_count": 1,
   "metadata": {
    "ExecuteTime": {
     "end_time": "2025-08-06T04:39:47.597094Z",
     "start_time": "2025-08-06T04:39:38.551529Z"
    }
   },
   "outputs": [],
   "source": [
    "# ! pip install kagglehub\n",
    "# ! python3 -m pip install --upgrade pip\n",
    "# ! pip install openai"
   ]
  },
  {
   "cell_type": "code",
   "execution_count": 2,
   "metadata": {
    "ExecuteTime": {
     "end_time": "2025-08-06T04:38:57.935217Z",
     "start_time": "2025-08-06T04:38:54.328024Z"
    },
    "colab": {
     "base_uri": "https://localhost:8080/"
    },
    "id": "JOoJG_j1kqx-",
    "outputId": "5086c55d-aafc-440a-84b6-2467840f3c5d"
   },
   "outputs": [
    {
     "name": "stderr",
     "output_type": "stream",
     "text": [
      "/Users/RajivGaba/Library/Python/3.9/lib/python/site-packages/urllib3/__init__.py:35: NotOpenSSLWarning: urllib3 v2 only supports OpenSSL 1.1.1+, currently the 'ssl' module is compiled with 'LibreSSL 2.8.3'. See: https://github.com/urllib3/urllib3/issues/3020\n",
      "  warnings.warn(\n"
     ]
    },
    {
     "name": "stdout",
     "output_type": "stream",
     "text": [
      "Warning: Looks like you're using an outdated `kagglehub` version (installed: 0.3.10), please consider upgrading to the latest version (0.3.12).\n",
      "Path to dataset files: /Users/RajivGaba/.cache/kagglehub/datasets/abdallahwagih/books-dataset/versions/1\n"
     ]
    }
   ],
   "source": [
    "import kagglehub\n",
    "\n",
    "# Download latest version\n",
    "path = kagglehub.dataset_download(\"abdallahwagih/books-dataset\")\n",
    "\n",
    "print(\"Path to dataset files:\", path)"
   ]
  },
  {
   "cell_type": "code",
   "execution_count": 3,
   "metadata": {
    "id": "qO6wYRsdqxbh"
   },
   "outputs": [],
   "source": [
    "import os\n",
    "import pandas as pd\n",
    "import matplotlib.pyplot as plt\n",
    "import seaborn as sns\n",
    "from openai import OpenAI\n",
    "import json"
   ]
  },
  {
   "cell_type": "code",
   "execution_count": 4,
   "metadata": {
    "colab": {
     "base_uri": "https://localhost:8080/",
     "height": 506
    },
    "id": "3BHQYuHbqKNn",
    "outputId": "89931588-7aa4-4ac9-a381-f7ea1b472e24"
   },
   "outputs": [
    {
     "name": "stdout",
     "output_type": "stream",
     "text": [
      "data.csv\n",
      "intents.json\n"
     ]
    },
    {
     "data": {
      "text/html": [
       "<div>\n",
       "<style scoped>\n",
       "    .dataframe tbody tr th:only-of-type {\n",
       "        vertical-align: middle;\n",
       "    }\n",
       "\n",
       "    .dataframe tbody tr th {\n",
       "        vertical-align: top;\n",
       "    }\n",
       "\n",
       "    .dataframe thead th {\n",
       "        text-align: right;\n",
       "    }\n",
       "</style>\n",
       "<table border=\"1\" class=\"dataframe\">\n",
       "  <thead>\n",
       "    <tr style=\"text-align: right;\">\n",
       "      <th></th>\n",
       "      <th>isbn13</th>\n",
       "      <th>isbn10</th>\n",
       "      <th>title</th>\n",
       "      <th>subtitle</th>\n",
       "      <th>authors</th>\n",
       "      <th>categories</th>\n",
       "      <th>thumbnail</th>\n",
       "      <th>description</th>\n",
       "      <th>published_year</th>\n",
       "      <th>average_rating</th>\n",
       "      <th>num_pages</th>\n",
       "      <th>ratings_count</th>\n",
       "    </tr>\n",
       "  </thead>\n",
       "  <tbody>\n",
       "    <tr>\n",
       "      <th>0</th>\n",
       "      <td>9780002005883</td>\n",
       "      <td>0002005883</td>\n",
       "      <td>Gilead</td>\n",
       "      <td>NaN</td>\n",
       "      <td>Marilynne Robinson</td>\n",
       "      <td>Fiction</td>\n",
       "      <td>http://books.google.com/books/content?id=KQZCP...</td>\n",
       "      <td>A NOVEL THAT READERS and critics have been eag...</td>\n",
       "      <td>2004.0</td>\n",
       "      <td>3.85</td>\n",
       "      <td>247.0</td>\n",
       "      <td>361.0</td>\n",
       "    </tr>\n",
       "    <tr>\n",
       "      <th>1</th>\n",
       "      <td>9780002261982</td>\n",
       "      <td>0002261987</td>\n",
       "      <td>Spider's Web</td>\n",
       "      <td>A Novel</td>\n",
       "      <td>Charles Osborne;Agatha Christie</td>\n",
       "      <td>Detective and mystery stories</td>\n",
       "      <td>http://books.google.com/books/content?id=gA5GP...</td>\n",
       "      <td>A new 'Christie for Christmas' -- a full-lengt...</td>\n",
       "      <td>2000.0</td>\n",
       "      <td>3.83</td>\n",
       "      <td>241.0</td>\n",
       "      <td>5164.0</td>\n",
       "    </tr>\n",
       "    <tr>\n",
       "      <th>2</th>\n",
       "      <td>9780006163831</td>\n",
       "      <td>0006163831</td>\n",
       "      <td>The One Tree</td>\n",
       "      <td>NaN</td>\n",
       "      <td>Stephen R. Donaldson</td>\n",
       "      <td>American fiction</td>\n",
       "      <td>http://books.google.com/books/content?id=OmQaw...</td>\n",
       "      <td>Volume Two of Stephen Donaldson's acclaimed se...</td>\n",
       "      <td>1982.0</td>\n",
       "      <td>3.97</td>\n",
       "      <td>479.0</td>\n",
       "      <td>172.0</td>\n",
       "    </tr>\n",
       "    <tr>\n",
       "      <th>3</th>\n",
       "      <td>9780006178736</td>\n",
       "      <td>0006178731</td>\n",
       "      <td>Rage of angels</td>\n",
       "      <td>NaN</td>\n",
       "      <td>Sidney Sheldon</td>\n",
       "      <td>Fiction</td>\n",
       "      <td>http://books.google.com/books/content?id=FKo2T...</td>\n",
       "      <td>A memorable, mesmerizing heroine Jennifer -- b...</td>\n",
       "      <td>1993.0</td>\n",
       "      <td>3.93</td>\n",
       "      <td>512.0</td>\n",
       "      <td>29532.0</td>\n",
       "    </tr>\n",
       "    <tr>\n",
       "      <th>4</th>\n",
       "      <td>9780006280897</td>\n",
       "      <td>0006280897</td>\n",
       "      <td>The Four Loves</td>\n",
       "      <td>NaN</td>\n",
       "      <td>Clive Staples Lewis</td>\n",
       "      <td>Christian life</td>\n",
       "      <td>http://books.google.com/books/content?id=XhQ5X...</td>\n",
       "      <td>Lewis' work on the nature of love divides love...</td>\n",
       "      <td>2002.0</td>\n",
       "      <td>4.15</td>\n",
       "      <td>170.0</td>\n",
       "      <td>33684.0</td>\n",
       "    </tr>\n",
       "  </tbody>\n",
       "</table>\n",
       "</div>"
      ],
      "text/plain": [
       "          isbn13      isbn10           title subtitle  \\\n",
       "0  9780002005883  0002005883          Gilead      NaN   \n",
       "1  9780002261982  0002261987    Spider's Web  A Novel   \n",
       "2  9780006163831  0006163831    The One Tree      NaN   \n",
       "3  9780006178736  0006178731  Rage of angels      NaN   \n",
       "4  9780006280897  0006280897  The Four Loves      NaN   \n",
       "\n",
       "                           authors                     categories  \\\n",
       "0               Marilynne Robinson                        Fiction   \n",
       "1  Charles Osborne;Agatha Christie  Detective and mystery stories   \n",
       "2             Stephen R. Donaldson               American fiction   \n",
       "3                   Sidney Sheldon                        Fiction   \n",
       "4              Clive Staples Lewis                 Christian life   \n",
       "\n",
       "                                           thumbnail  \\\n",
       "0  http://books.google.com/books/content?id=KQZCP...   \n",
       "1  http://books.google.com/books/content?id=gA5GP...   \n",
       "2  http://books.google.com/books/content?id=OmQaw...   \n",
       "3  http://books.google.com/books/content?id=FKo2T...   \n",
       "4  http://books.google.com/books/content?id=XhQ5X...   \n",
       "\n",
       "                                         description  published_year  \\\n",
       "0  A NOVEL THAT READERS and critics have been eag...          2004.0   \n",
       "1  A new 'Christie for Christmas' -- a full-lengt...          2000.0   \n",
       "2  Volume Two of Stephen Donaldson's acclaimed se...          1982.0   \n",
       "3  A memorable, mesmerizing heroine Jennifer -- b...          1993.0   \n",
       "4  Lewis' work on the nature of love divides love...          2002.0   \n",
       "\n",
       "   average_rating  num_pages  ratings_count  \n",
       "0            3.85      247.0          361.0  \n",
       "1            3.83      241.0         5164.0  \n",
       "2            3.97      479.0          172.0  \n",
       "3            3.93      512.0        29532.0  \n",
       "4            4.15      170.0        33684.0  "
      ]
     },
     "execution_count": 4,
     "metadata": {},
     "output_type": "execute_result"
    }
   ],
   "source": [
    "for file in os.listdir(path):\n",
    "    print(file)\n",
    "\n",
    "df = pd.read_csv(path + \"/data.csv\" )\n",
    "df.head()"
   ]
  },
  {
   "cell_type": "code",
   "execution_count": 5,
   "metadata": {
    "colab": {
     "base_uri": "https://localhost:8080/"
    },
    "id": "i6Jo09C9qjvP",
    "outputId": "1ec2aef1-7d29-4b71-8bcd-bbf94041ced4"
   },
   "outputs": [
    {
     "name": "stdout",
     "output_type": "stream",
     "text": [
      "<class 'pandas.core.frame.DataFrame'>\n",
      "RangeIndex: 6810 entries, 0 to 6809\n",
      "Data columns (total 12 columns):\n",
      " #   Column          Non-Null Count  Dtype  \n",
      "---  ------          --------------  -----  \n",
      " 0   isbn13          6810 non-null   int64  \n",
      " 1   isbn10          6810 non-null   object \n",
      " 2   title           6810 non-null   object \n",
      " 3   subtitle        2381 non-null   object \n",
      " 4   authors         6738 non-null   object \n",
      " 5   categories      6711 non-null   object \n",
      " 6   thumbnail       6481 non-null   object \n",
      " 7   description     6548 non-null   object \n",
      " 8   published_year  6804 non-null   float64\n",
      " 9   average_rating  6767 non-null   float64\n",
      " 10  num_pages       6767 non-null   float64\n",
      " 11  ratings_count   6767 non-null   float64\n",
      "dtypes: float64(4), int64(1), object(7)\n",
      "memory usage: 638.6+ KB\n"
     ]
    }
   ],
   "source": [
    "df.info()"
   ]
  },
  {
   "cell_type": "code",
   "execution_count": 6,
   "metadata": {
    "colab": {
     "base_uri": "https://localhost:8080/",
     "height": 742
    },
    "id": "SnWStqEnyPUx",
    "outputId": "47988ebc-9524-41d0-b25d-5442f1c9d2c2"
   },
   "outputs": [
    {
     "data": {
      "text/plain": [
       "categories\n",
       "Fiction                      2588\n",
       "Juvenile Fiction              538\n",
       "Biography & Autobiography     401\n",
       "History                       264\n",
       "Literary Criticism            166\n",
       "Philosophy                    160\n",
       "Comics & Graphic Novels       159\n",
       "Religion                      137\n",
       "Drama                         132\n",
       "Juvenile Nonfiction           116\n",
       "Poetry                         79\n",
       "Science                        71\n",
       "Literary Collections           71\n",
       "Business & Economics           67\n",
       "Social Science                 60\n",
       "Performing Arts                50\n",
       "Cooking                        47\n",
       "Art                            46\n",
       "Body, Mind & Spirit            44\n",
       "Travel                         43\n",
       "Name: count, dtype: int64"
      ]
     },
     "execution_count": 6,
     "metadata": {},
     "output_type": "execute_result"
    }
   ],
   "source": [
    "df['categories'].value_counts().head(20)"
   ]
  },
  {
   "cell_type": "code",
   "execution_count": 7,
   "metadata": {
    "colab": {
     "base_uri": "https://localhost:8080/",
     "height": 449
    },
    "id": "uowG00j5saDH",
    "outputId": "b919e274-38d7-4557-de4e-81fee13d29df"
   },
   "outputs": [
    {
     "data": {
      "image/png": "[encoded data removed]",
      "text/plain": [
       "<Figure size 640x480 with 1 Axes>"
      ]
     },
     "metadata": {},
     "output_type": "display_data"
    }
   ],
   "source": [
    "# print the num_pages and ratings_count on bar charts\n",
    "\n",
    "plt.figure()\n",
    "sns.histplot(x=df['num_pages'], bins=50)\n",
    "plt.show()"
   ]
  },
  {
   "cell_type": "code",
   "execution_count": 8,
   "metadata": {
    "colab": {
     "base_uri": "https://localhost:8080/",
     "height": 450
    },
    "id": "pftA6a3ntIGf",
    "outputId": "f654ff03-f2cf-4845-f83f-8b941cecc60c"
   },
   "outputs": [
    {
     "data": {
      "image/png": "[encoded data removed]",
      "text/plain": [
       "<Figure size 640x480 with 1 Axes>"
      ]
     },
     "metadata": {},
     "output_type": "display_data"
    }
   ],
   "source": [
    "plt.figure()\n",
    "sns.histplot(x=df['published_year'], bins=50)\n",
    "plt.show()"
   ]
  },
  {
   "cell_type": "code",
   "execution_count": 9,
   "metadata": {
    "id": "mVFF4DWfuSNH"
   },
   "outputs": [
    {
     "name": "stdout",
     "output_type": "stream",
     "text": [
      "keys imported from local .env file\n"
     ]
    }
   ],
   "source": [
    "try:\n",
    "    from google.colab import userdata\n",
    "    pplx_key = userdata.get('PREPLEXITY_API_KEY')\n",
    "    openai_key = userdata.get('OPENAI_KEY')\n",
    "    print(\"keys imported from Google Colab userdata\")\n",
    "except:\n",
    "    import dotenv\n",
    "    from dotenv import load_dotenv\n",
    "    import os\n",
    "    load_dotenv()\n",
    "    pplx_key = os.getenv('PREPLEXITY_API_KEY')\n",
    "    openai_key = os.getenv('OPENAI_API_KEY')\n",
    "    print(\"keys imported from local .env file\")"
   ]
  },
  {
   "cell_type": "code",
   "execution_count": 10,
   "metadata": {
    "id": "lsCTsn8lwFus"
   },
   "outputs": [],
   "source": [
    "def initialize_conversation():\n",
    "  delimiter = \"####\"\n",
    "  example_user_dict = {\n",
    "      'categories' : 'history',\n",
    "      'book size' : 'long',\n",
    "      'author' : 'sidney sheldon',\n",
    "      'title' : '_',\n",
    "      'book age' : '_'\n",
    "  }\n",
    "\n",
    "  system_message = f\"\"\"\n",
    "  You are an expert academic and an avid reader. Your task is to recommend books to the user.\n",
    "  You need to get inputs from the user, understand their need to what kind of book they want to read and capture\n",
    "  information in python dictionary. The dicitonary would look like this:\n",
    "  {{\n",
    "      'categories' : 'values',\n",
    "      'book size' : 'values',\n",
    "      'author' : 'values',\n",
    "      'title' : 'values',\n",
    "      'book age' : 'values'\n",
    "  }}\n",
    "  {delimiter}\n",
    "\n",
    "  Here are some instructions around the values of these keys.\n",
    "  - 'book size' should strictly be 'small', 'medium' and 'large'\n",
    "  - 'book age' should strictly be 'new', 'old' and 'very old'\n",
    "  - 'categories' should be one of the genres like history, fiction, non-fiction, science, etc. \n",
    "  - User may not have any preference for title or book age. In that case, you can fill the value as 'No Preference'\n",
    "\n",
    "  {delimiter}\n",
    "\n",
    "  To fill the dictionary, you need to have following chain of thoughts:\n",
    "\n",
    "  {delimiter}\n",
    "  Thought 1: Ask a question to the user about what kind of book they want to read. Try and understand the genre \\n\n",
    "  or category of the book. Also, ask if they have any preference for any author or book title or how big the book should \\n\n",
    "  be or how old the book should be. Identify the keys for which you can fill the values confidently using the understanding \\n\n",
    "\n",
    "  {delimiter}\n",
    "  Thought 2: Now, you are trying to fill the values for the rest of the keys which you couldn't in the previous step. \\n\n",
    "  Remember the instructions around the values for the different keys. Ask questions you might have for all the keys to \\n\n",
    "  strengthen your understanding of the user's profile. If yes, move to the next Thought. If no, ask question on the keys \\n\n",
    "  whose values you are unsure of. It is a good practice to ask question with a sound logic as opposed to directly citing \\n\n",
    "  the key you want to understand value for.\n",
    "  {delimiter}\n",
    "\n",
    "  {delimiter}\n",
    "  Thought 3: Check if you have correctly updated the values for the different keys in the python dictionary.\n",
    "  If you are not confident about any of the values, ask clarifying questions.\n",
    "  {delimiter}\n",
    "\n",
    "  Here is a sample conversation between the user and the assistant:\n",
    "  User: \"Hi, i am a student\"\n",
    "  Assistant: \"Great. Being a student, you would really want to understand the world, life, nature, history. What kind of books \\n\n",
    "  would you like to read?\"\n",
    "  User: \"I want to read a book about history\"\n",
    "  Assistant: \"Thank you for the information. Are you interested in american history in particular?\"\n",
    "  User: \"No. I read any history\".\n",
    "  Assistant: \"Sure, do you have any preference for an author?\"\n",
    "  User: \"Yes. Sindney Sheldon\"\n",
    "  Assistant: \"{example_user_dict}\"\n",
    "\n",
    "  Start with a short welcome message and encourage the user to share their requirements.\n",
    "\n",
    "  \"\"\"\n",
    "\n",
    "  conversation = [{\"role\" : \"system\", \"content\": system_message}]\n",
    "  return conversation"
   ]
  },
  {
   "cell_type": "code",
   "execution_count": 11,
   "metadata": {
    "colab": {
     "base_uri": "https://localhost:8080/"
    },
    "id": "iwDOMDj6y0yo",
    "outputId": "0930b02c-63f5-4972-93f7-a365647138d0"
   },
   "outputs": [
    {
     "data": {
      "text/plain": [
       "[{'role': 'system',\n",
       "  'content': '\\n  You are an expert academic and an avid reader. Your task is to recommend books to the user.\\n  You need to get inputs from the user, understand their need to what kind of book they want to read and capture\\n  information in python dictionary. The dicitonary would look like this:\\n  {\\n      \\'categories\\' : \\'values\\',\\n      \\'book size\\' : \\'values\\',\\n      \\'author\\' : \\'values\\',\\n      \\'title\\' : \\'values\\',\\n      \\'book age\\' : \\'values\\'\\n  }\\n  ####\\n\\n  Here are some instructions around the values of these keys.\\n  - \\'book size\\' should strictly be \\'small\\', \\'medium\\' and \\'large\\'\\n  - \\'book age\\' should strictly be \\'new\\', \\'old\\' and \\'very old\\'\\n  - \\'categories\\' should be one of the genres like history, fiction, non-fiction, science, etc. \\n  - User may not have any preference for title or book age. In that case, you can fill the value as \\'No Preference\\'\\n\\n  ####\\n\\n  To fill the dictionary, you need to have following chain of thoughts:\\n\\n  ####\\n  Thought 1: Ask a question to the user about what kind of book they want to read. Try and understand the genre \\n\\n  or category of the book. Also, ask if they have any preference for any author or book title or how big the book should \\n\\n  be or how old the book should be. Identify the keys for which you can fill the values confidently using the understanding \\n\\n\\n  ####\\n  Thought 2: Now, you are trying to fill the values for the rest of the keys which you couldn\\'t in the previous step. \\n\\n  Remember the instructions around the values for the different keys. Ask questions you might have for all the keys to \\n\\n  strengthen your understanding of the user\\'s profile. If yes, move to the next Thought. If no, ask question on the keys \\n\\n  whose values you are unsure of. It is a good practice to ask question with a sound logic as opposed to directly citing \\n\\n  the key you want to understand value for.\\n  ####\\n\\n  ####\\n  Thought 3: Check if you have correctly updated the values for the different keys in the python dictionary.\\n  If you are not confident about any of the values, ask clarifying questions.\\n  ####\\n\\n  Here is a sample conversation between the user and the assistant:\\n  User: \"Hi, i am a student\"\\n  Assistant: \"Great. Being a student, you would really want to understand the world, life, nature, history. What kind of books \\n\\n  would you like to read?\"\\n  User: \"I want to read a book about history\"\\n  Assistant: \"Thank you for the information. Are you interested in american history in particular?\"\\n  User: \"No. I read any history\".\\n  Assistant: \"Sure, do you have any preference for an author?\"\\n  User: \"Yes. Sindney Sheldon\"\\n  Assistant: \"{\\'categories\\': \\'history\\', \\'book size\\': \\'long\\', \\'author\\': \\'sidney sheldon\\', \\'title\\': \\'_\\', \\'book age\\': \\'_\\'}\"\\n\\n  Start with a short welcome message and encourage the user to share their requirements.\\n\\n  '}]"
      ]
     },
     "execution_count": 11,
     "metadata": {},
     "output_type": "execute_result"
    }
   ],
   "source": [
    "initialize_conversation()"
   ]
  },
  {
   "cell_type": "code",
   "execution_count": 12,
   "metadata": {
    "id": "j_CvSNWg4Gr3"
   },
   "outputs": [],
   "source": [
    "client = OpenAI(api_key = pplx_key, base_url=\"https://api.perplexity.ai\")\n",
    "model_name = \"sonar-pro\""
   ]
  },
  {
   "cell_type": "code",
   "execution_count": 29,
   "metadata": {
    "id": "KMZ-pTPf42HR"
   },
   "outputs": [],
   "source": [
    "def get_chat_model_completions(input, json_format = False ):\n",
    "\n",
    "  # model_name = \"gpt-3.5-turbo\"\n",
    "\n",
    "  if json_format == True:\n",
    "    system_mesage_json_output = \"\"\"<<. Return the output in JSON format.>> \"\"\"\n",
    "    input[0][\"content\"] += system_mesage_json_output\n",
    "\n",
    "    response = client.chat.completions.create(\n",
    "        model = model_name,\n",
    "        messages = input,\n",
    "        temperature=0,\n",
    "        max_tokens=500,\n",
    "        # response_format = {\"type\" : \"json_object\"},\n",
    "        seed = 1234\n",
    "    )\n",
    "    print(response.choices[0].message.content)\n",
    "    output = json.loads(response.choices[0].message.content)\n",
    "  else:\n",
    "    response = client.chat.completions.create(\n",
    "        model = model_name,\n",
    "        messages = input,\n",
    "        temperature=0,\n",
    "        max_tokens=500,\n",
    "        seed = 2345\n",
    "    )\n",
    "    output = response.choices[0].message.content\n",
    "\n",
    "\n",
    "  return output"
   ]
  },
  {
   "cell_type": "code",
   "execution_count": 14,
   "metadata": {
    "colab": {
     "base_uri": "https://localhost:8080/"
    },
    "id": "UGmorDKa5MkS",
    "outputId": "f4e92dc3-9669-4dcd-d59e-250e522eacc8"
   },
   "outputs": [
    {
     "name": "stdout",
     "output_type": "stream",
     "text": [
      "A book is a set of written, printed, or blank sheets bound together between a front and back cover, typically forming a long literary composition or a collection of information[4][1][2]. Books can be physical objects made of paper or other materials, or they can exist in digital formats as e-books[4][3].\n",
      "\n",
      "Beyond its physical form, a book is also considered a text (the content it contains), an object (the material or digital artifact), a transaction (the exchange between author and reader), and an experience (the act of reading and interpreting)[1]. Books serve various purposes, including storytelling, education, record-keeping, and the transmission of knowledge[2][3].\n",
      "\n",
      "Books are commonly divided into fiction (invented narratives) and non-fiction (factual works), but they can also include reference materials, manuals, and other specialized types[3]. The structure of a book often includes elements such as a cover, title page, table of contents, introduction, main body, and conclusion[2].\n"
     ]
    }
   ],
   "source": [
    "## Unit test\n",
    "\n",
    "input_prompt = \"what is a book\"\n",
    "x_input = [{\"role\" : \"user\", \"content\" : input_prompt}]\n",
    "print(get_chat_model_completions(x_input))"
   ]
  },
  {
   "cell_type": "code",
   "execution_count": 15,
   "metadata": {
    "colab": {
     "base_uri": "https://localhost:8080/"
    },
    "id": "C3FUUPqJ6Yyt",
    "outputId": "72402b36-b833-409b-cd92-354cfbfe3db6"
   },
   "outputs": [
    {
     "data": {
      "text/plain": [
       "{'definition': 'A book is a series of pages or sheets that are bound together within covers, typically made of paper, and used as a source of knowledge, entertainment, or communication[1].',\n",
       " 'physical_structure': {'components': ['book cover',\n",
       "   'title page',\n",
       "   'copyright page',\n",
       "   'table of contents',\n",
       "   'introduction',\n",
       "   'body',\n",
       "   'conclusion',\n",
       "   'back cover'],\n",
       "  'material': 'Most modern books use uncoated paper stock for their pages[1].'},\n",
       " 'literary_elements': ['characters',\n",
       "  'setting',\n",
       "  'plot',\n",
       "  'conflict',\n",
       "  'resolution'],\n",
       " 'uses': ['education',\n",
       "  'entertainment',\n",
       "  'developing reading comprehension',\n",
       "  'broadening vocabulary',\n",
       "  'providing perspective'],\n",
       " 'structure': 'Books are usually structured with a beginning, middle, and end, often introducing characters, building tension, and resolving conflict[1].'}"
      ]
     },
     "execution_count": 15,
     "metadata": {},
     "output_type": "execute_result"
    }
   ],
   "source": [
    "input_prompt = \"what is a book\"\n",
    "y_input = [{\"role\" : \"user\", \"content\" : input_prompt}]\n",
    "get_chat_model_completions(y_input, json_format = True)"
   ]
  },
  {
   "cell_type": "code",
   "execution_count": 16,
   "metadata": {
    "id": "Z2RziUSN5FkG"
   },
   "outputs": [],
   "source": [
    "def moderation_check(user_input):\n",
    "  client = OpenAI(api_key=openai_key)\n",
    "  response = client.moderations.create(input=user_input)\n",
    "  # print(response)\n",
    "\n",
    "  moderation_output = response.results[0].flagged\n",
    "\n",
    "  if response.results[0].flagged == True:\n",
    "    return \"Flagged\"\n",
    "  else:\n",
    "    return \"Not Flagged\""
   ]
  },
  {
   "cell_type": "code",
   "execution_count": 17,
   "metadata": {
    "colab": {
     "base_uri": "https://localhost:8080/",
     "height": 36
    },
    "id": "fIvAqbX75K2Y",
    "outputId": "d9978ee4-4116-4c2e-afd2-c61f5d36ce9c"
   },
   "outputs": [
    {
     "data": {
      "text/plain": [
       "'Not Flagged'"
      ]
     },
     "execution_count": 17,
     "metadata": {},
     "output_type": "execute_result"
    }
   ],
   "source": [
    "# unit test\n",
    "\n",
    "moderation_check(input_prompt)"
   ]
  },
  {
   "cell_type": "code",
   "execution_count": 18,
   "metadata": {
    "id": "T8IxnHiA6AZX"
   },
   "outputs": [],
   "source": [
    "def intent_confirmation_layer(response_assistant):\n",
    "    delimiter = \"####\"\n",
    "    prompt = f\"\"\" You are a senior evaluator with an eye for detail. The input text will contain user input captured. \\n\n",
    "    You need to evaluate the input and confirm if all the keys are captured in the dictionary. The input text would be following keys:\n",
    "    {{\n",
    "    'categories' : 'values',\n",
    "    'book size' : 'values',\n",
    "    'author' : 'values',\n",
    "    'title' : 'values',\n",
    "    'book age' : 'values'\n",
    "    }}\n",
    "    {delimiter}\n",
    "    You give a response in JSON format. Only output a one-word string in JSON format at the key 'result' - Yes/No.\n",
    "    {delimiter}\n",
    "\n",
    "    Thought 1: Respond with a single word 'Yes' if all the keys are captured in the dictionary.  \\n\n",
    "    Thought 2: If any of the keys are not captured, respond with a single word 'No' and then list the keys which are not captured in the dictionary. \\n\n",
    "    Thought 3: Think carefully before answering.\n",
    "    {delimiter}  \n",
    "    \"\"\"\n",
    "    messages = [\n",
    "        {\"role\": \"system\", \"content\": prompt},\n",
    "        {\"role\": \"user\", \"content\": response_assistant}\n",
    "    ]\n",
    "\n",
    "    response = client.chat.completions.create(\n",
    "        model=model_name,\n",
    "        messages=messages,\n",
    "        temperature=0,\n",
    "        seed=3456\n",
    "    )\n",
    "    # print(response.choices[0].message.content)\n",
    "    output = json.loads(response.choices[0].message.content)\n",
    "    return output\n"
   ]
  },
  {
   "cell_type": "code",
   "execution_count": 19,
   "metadata": {},
   "outputs": [
    {
     "data": {
      "text/plain": [
       "'No'"
      ]
     },
     "execution_count": 19,
     "metadata": {},
     "output_type": "execute_result"
    }
   ],
   "source": [
    "# unit test for intent confirmation layer\n",
    "sample_response = \"\"\"{\n",
    "    \"categories\": \"history\",\n",
    "    \"book size\": \"\",\n",
    "    \"author\": \"sidney sheldon\",\n",
    "    \"title\": \"no preference\",\n",
    "    \"book age\": \"no preference\"\n",
    "}\"\"\"\n",
    "intent_confirmation_layer(sample_response)['result']"
   ]
  },
  {
   "cell_type": "code",
   "execution_count": 20,
   "metadata": {},
   "outputs": [],
   "source": [
    "def iterate_llm_response(funct, debug_response, num = 10):\n",
    "    \"\"\"\n",
    "    Calls a specified function repeatedly and prints the results.\n",
    "    This function is designed to test the consistency of a response from a given function.\n",
    "    It calls the function multiple times (default is 10) and prints out the iteration count,\n",
    "    the function's response(s).\n",
    "    Args:\n",
    "        funct (function): The function to be tested. This function should accept a single argument\n",
    "                          and return the response value(s).\n",
    "        debug_response (dict): The input argument to be passed to 'funct' on each call.\n",
    "        num (int, optional): The number of times 'funct' will be called. Defaults to 10.\n",
    "    Returns:\n",
    "        This function only returns the results to the console.\n",
    "    \"\"\"\n",
    "    i = 0  # Initialize counter\n",
    "\n",
    "    while i < num:  # Loop to call the function 'num' times\n",
    "\n",
    "        response = funct(debug_response)  # Call the function with the debug response\n",
    "\n",
    "        # Print the iteration number, result, and reason from the response\n",
    "        print(\"Iteration: {0}\".format(i))\n",
    "        print(response)\n",
    "        print('-' * 50)  # Print a separator line for readability\n",
    "        i += 1  # Increment the counter"
   ]
  },
  {
   "cell_type": "code",
   "execution_count": 21,
   "metadata": {},
   "outputs": [
    {
     "name": "stdout",
     "output_type": "stream",
     "text": [
      "Iteration: 0\n",
      "{'result': 'No', 'missing_keys': ['book size']}\n",
      "--------------------------------------------------\n",
      "Iteration: 1\n",
      "{'result': 'No', 'missing_keys': ['book size']}\n",
      "--------------------------------------------------\n",
      "Iteration: 2\n",
      "{'result': 'No', 'missing_keys': ['book size']}\n",
      "--------------------------------------------------\n",
      "Iteration: 3\n",
      "{'result': 'Yes'}\n",
      "--------------------------------------------------\n",
      "Iteration: 4\n",
      "{'result': 'Yes'}\n",
      "--------------------------------------------------\n",
      "Iteration: 5\n",
      "{'result': 'No', 'missing_keys': ['book size']}\n",
      "--------------------------------------------------\n",
      "Iteration: 6\n",
      "{'result': 'No', 'missing_keys': ['book size']}\n",
      "--------------------------------------------------\n",
      "Iteration: 7\n",
      "{'result': 'No', 'missing_keys': ['book size']}\n",
      "--------------------------------------------------\n",
      "Iteration: 8\n",
      "{'result': 'Yes'}\n",
      "--------------------------------------------------\n",
      "Iteration: 9\n",
      "{'result': 'No', 'missing_keys': ['book size']}\n",
      "--------------------------------------------------\n"
     ]
    }
   ],
   "source": [
    "iterate_llm_response(intent_confirmation_layer, sample_response, num=10)"
   ]
  },
  {
   "cell_type": "code",
   "execution_count": 22,
   "metadata": {},
   "outputs": [],
   "source": [
    "def generate_recommendation(final_user_input):\n",
    "    delimiter = \"####\"\n",
    "    prompt = f\"\"\"You are an expert book recommender. You will be given a python dictionary\n",
    "    with keys like 'categories', 'book size', 'author', 'title' and 'book age'.\n",
    "    Your task is to generate a top 3 book recommendations based on the provided information. The corpus of books you can recommend is available in pandas dataframe {df}. \\n\n",
    "    \n",
    "    Here are some instructions around the inputs you receive that you can use to generate the recommendation.\n",
    "    - 'categories' refers to one of the genres like history, fiction, non-fiction,\n",
    "    - 'book size' refers to the size of the book. which can be small, medium or large. 'small' implies less than 100 pages, 'medium' implies between 100 and 300 pages, and 'large' implies more than 300 pages.\n",
    "    - 'author' refers to the author of the book.\n",
    "    - 'title' refers to the title of the book.\n",
    "    - 'book age' refers to the year of publication. If 'book age' is 'new', it means the book was published in the last 5 years, 'old' means it was published between 5 and 20 years ago, and 'very old' means it was published more than 20 years ago.\n",
    "\n",
    "    Thought 1: Use the values in the dictionary to filter the dataframe and find books that match the user's preferences.\n",
    "    Thought 2: If the user has no preference for a key, you can use the available keys and recommend books based on the other keys.\n",
    "    Thought 3: In case of many matches , you can select the books with highest value of ratings_count and mention that in your response that these are popular books.\n",
    "    Thought 4: \n",
    "    {delimiter}\n",
    "    The input dictionary is as follows:\n",
    "    {final_user_input}\n",
    "    {delimiter}\n",
    "    Please provide your book recommendations in JSON format.\n",
    "    \"\"\"\n",
    "    messages = [\n",
    "        {\"role\": \"system\", \"content\": prompt},\n",
    "        {\"role\": \"user\", \"content\": final_user_input}\n",
    "    ]\n",
    "\n",
    "    response = client.chat.completions.create(\n",
    "        model=model_name,\n",
    "        messages=messages,\n",
    "        temperature=0,\n",
    "        seed=4567\n",
    "    )\n",
    "    # print(response.choices[0].message.content)\n",
    "    output = json.loads(response.choices[0].message.content)\n",
    "    return output"
   ]
  },
  {
   "cell_type": "code",
   "execution_count": 23,
   "metadata": {},
   "outputs": [
    {
     "data": {
      "text/plain": [
       "{'recommendations': [{'title': 'Rage of Angels',\n",
       "   'authors': 'Sidney Sheldon',\n",
       "   'categories': 'Fiction',\n",
       "   'published_year': 1993,\n",
       "   'num_pages': 512,\n",
       "   'average_rating': 3.93,\n",
       "   'ratings_count': 29532,\n",
       "   'thumbnail': 'http://books.google.com/books/content?id=FKo2TAAACAAJ&printsec=frontcover&img=1&zoom=1&source=gbs_api',\n",
       "   'description': \"A memorable, mesmerizing heroine Jennifer -- brilliant, beautiful, an attorney on the way up until the Mafia's schemes and a lover's betrayal bring her world crashing down.\",\n",
       "   'note': \"This is one of Sidney Sheldon's most popular novels and a frequent favorite among readers[5][4].\"},\n",
       "  {'title': 'A Stranger in the Mirror',\n",
       "   'authors': 'Sidney Sheldon',\n",
       "   'categories': 'Fiction',\n",
       "   'published_year': 1976,\n",
       "   'num_pages': 384,\n",
       "   'average_rating': 3.87,\n",
       "   'ratings_count': 11000,\n",
       "   'thumbnail': 'http://books.google.com/books/content?id=QK2wAAAAIAAJ&printsec=frontcover&img=1&zoom=1&source=gbs_api',\n",
       "   'description': 'A powerful story of two star-crossed lovers, Toby Temple and Jill Castle, who rise to fame in Hollywood, only to be destroyed by their own ambitions.',\n",
       "   'note': 'A classic Sheldon blockbuster, highly rated and widely read[4].'},\n",
       "  {'title': 'The Other Side of Midnight',\n",
       "   'authors': 'Sidney Sheldon',\n",
       "   'categories': 'Fiction',\n",
       "   'published_year': 1973,\n",
       "   'num_pages': 512,\n",
       "   'average_rating': 4.01,\n",
       "   'ratings_count': 25000,\n",
       "   'thumbnail': 'http://books.google.com/books/content?id=QK2wAAAAIAAJ&printsec=frontcover&img=1&zoom=1&source=gbs_api',\n",
       "   'description': 'A tale of passion, intrigue, and revenge set against the backdrop of World War II, following the lives of two women whose destinies are intertwined.',\n",
       "   'note': \"One of Sheldon's best-known works, often cited as a must-read for fans of his writing[1][4].\"}],\n",
       " 'explanation': \"No Sidney Sheldon books in the available corpus are categorized as 'history', but the recommendations above are his most popular and highly rated novels, matching your author preference. These selections are based on their popularity (ratings_count) and critical acclaim.\"}"
      ]
     },
     "execution_count": 23,
     "metadata": {},
     "output_type": "execute_result"
    }
   ],
   "source": [
    "generate_recommendation(sample_response)"
   ]
  },
  {
   "cell_type": "code",
   "execution_count": 33,
   "metadata": {},
   "outputs": [],
   "source": [
    "def dialogue_mgmt_system():\n",
    "    conversation = initialize_conversation()\n",
    "    print(\"Welcome to the Book Recommendation Chatbot!\")\n",
    "    print(\"I am here to help you find the perfect book based on your preferences.\")\n",
    "    print(\"At any point, if you want to exit, just type 'exit' or 'quit'.\")\n",
    "\n",
    "    # user_input = ''\n",
    "\n",
    "    while True:\n",
    "        user_input = input(\"\")\n",
    "\n",
    "        if user_input.lower() in ['exit', 'quit']:\n",
    "            print(\"Thank you for using the Book Recommendation Chatbot. Goodbye!\")\n",
    "            break\n",
    "\n",
    "        if moderation_check(user_input) == \"Flagged\":\n",
    "            print(\"Assistant: Your input has been flagged for inappropriate content. Please try again with a new conversation.\")\n",
    "            break\n",
    "        \n",
    "        conversation.append({\"role\": \"user\", \"content\": user_input})\n",
    "        response = get_chat_model_completions(conversation, json_format=False)\n",
    "        print(response)\n",
    "\n",
    "        if intent_confirmation_layer(response)['result'] == 'No':\n",
    "            conversation.append({\"role\": \"assistant\", \"content\": json.dumps(response)})\n",
    "            continue\n",
    "        \n",
    "        conversation.append({\"role\": \"assistant\", \"content\": json.dumps(response)})\n",
    "        # print(f\"Assistant: {json.dumps(response, indent=2)}\")\n",
    "        \n",
    "        recommendation = generate_recommendation(json.dumps(response))\n",
    "        print(f\"Recommended Books: {recommendation}\")"
   ]
  },
  {
   "cell_type": "code",
   "execution_count": 35,
   "metadata": {},
   "outputs": [
    {
     "name": "stdout",
     "output_type": "stream",
     "text": [
      "Welcome to the Book Recommendation Chatbot!\n",
      "I am here to help you find the perfect book based on your preferences.\n",
      "At any point, if you want to exit, just type 'exit' or 'quit'.\n",
      "Welcome! I’d be happy to recommend some books, but to make the best suggestions, could you tell me a bit about your preferences? For example, do you have a favorite genre (like fiction, non-fiction, history, science, fantasy, etc.), a preferred author or book title, or any preference for how long or old the book should be? If you’re not sure, that’s fine too—just let me know what you’re in the mood for!\n",
      "Thank you for sharing how you’re feeling. Books can be a great source of comfort and support during sad times. To help me recommend the best options, could you let me know if you’re looking for something uplifting and comforting, or if you’d prefer books that directly address sadness and depression? Also, do you have any preference for the type of book (for example, self-help, fiction, memoir), the length of the book (small, medium, or large), or how old the book is (new, old, or very old)? If you have a favorite author or title in mind, let me know as well.\n",
      "Thank you for sharing that—a small memoir can be a wonderful companion when you’re feeling down. Here are a few uplifting and comforting small memoirs you might enjoy:\n",
      "\n",
      "- Birds Art Life by Kyo Maclear: This beautifully written memoir explores finding beauty and meaning in everyday life, especially during quiet or difficult times. It’s gentle, reflective, and not too long—perfect for your mood[2].\n",
      "- These Precious Days by Ann Patchett: A collection of personal essays that read like a memoir, full of warmth, humor, and insight. Each essay is short, making it easy to read in small doses[2].\n",
      "- Peggy of the Flint Hills by Zula Bennington Greene: A heartfelt recollection of childhood and young adulthood, offering comfort and a window into a simpler, kinder world[3].\n",
      "\n",
      "Here’s what I’ve gathered so far:\n",
      "{\n",
      "    'categories': 'memoir',\n",
      "    'book size': 'small',\n",
      "    'author': 'No Preference',\n",
      "    'title': 'No Preference',\n",
      "    'book age': 'No Preference'\n",
      "}\n",
      "\n",
      "If you’d like, I can narrow these down further—do you prefer a newer memoir, or are you open to older or classic ones? And do you want something specifically uplifting, or are you open to more reflective or bittersweet stories?\n",
      "Recommended Books: {'recommendations': [{'title': 'Between Two Kingdoms: What Almost Dying Taught Me About Living', 'author': 'Suleika Jaouad', 'description': 'A moving and inspiring memoir about finding meaning and courage through illness and recovery. Jaouad’s story is uplifting, reflective, and written in a way that resonates with anyone seeking hope and resilience in difficult times. The book is not overly long, making it a good fit for your preference for a small memoir.', 'reason_for_recommendation': \"This memoir is widely praised for its uplifting and comforting tone, and its length is suitable for a 'small' book[2].\"}, {'title': 'Greenlights', 'author': 'Matthew McConaughey', 'description': 'An unconventional, uplifting memoir that draws on decades of the actor’s journals. McConaughey shares lessons learned and encourages readers to find their own path to happiness, making this a comforting and positive read.', 'reason_for_recommendation': 'Recommended as an uplifting memoir that leaves readers feeling better, and it is known for being concise and engaging[1].'}, {'title': 'Unbreakable', 'author': 'Jelena Dokic', 'description': 'A powerful memoir of overcoming adversity, resilience, and hope. Dokic’s journey from refugee to tennis star is both harrowing and deeply inspiring, offering comfort and motivation to anyone facing tough times.', 'reason_for_recommendation': 'Highlighted as an inspirational and uplifting memoir, and its length is manageable for a small book[1].'}], 'note': 'These recommendations are based on your preference for small, uplifting memoirs. If you would like memoirs that are specifically new, classic, or with a particular emotional tone (uplifting, bittersweet, etc.), please let me know and I can further refine the list.'}\n",
      "Thank you for using the Book Recommendation Chatbot. Goodbye!\n"
     ]
    }
   ],
   "source": [
    "dialogue_mgmt_system()"
   ]
  },
  {
   "cell_type": "code",
   "execution_count": null,
   "metadata": {},
   "outputs": [],
   "source": []
  }
 ],
 "metadata": {
  "colab": {
   "authorship_tag": "ABX9TyPyejzp3ovQV8Sjpkt0symy",
   "include_colab_link": true,
   "provenance": []
  },
  "kernelspec": {
   "display_name": "Python 3",
   "language": "python",
   "name": "python3"
  },
  "language_info": {
   "codemirror_mode": {
    "name": "ipython",
    "version": 3
   },
   "file_extension": ".py",
   "mimetype": "text/x-python",
   "name": "python",
   "nbconvert_exporter": "python",
   "pygments_lexer": "ipython3",
   "version": "3.9.6"
  }
 },
 "nbformat": 4,
 "nbformat_minor": 0
}
