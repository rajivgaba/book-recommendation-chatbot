{
  "cells": [
    {
      "cell_type": "markdown",
      "metadata": {
        "id": "view-in-github",
        "colab_type": "text"
      },
      "source": [
        "<a href=\"https://colab.research.google.com/github/rajivgaba/book-recommendation-chatbot/blob/main/book_recommendation.ipynb\" target=\"_parent\"><img src=\"https://colab.research.google.com/assets/colab-badge.svg\" alt=\"Open In Colab\"/></a>"
      ]
    },
    {
      "cell_type": "code",
      "execution_count": null,
      "metadata": {
        "ExecuteTime": {
          "end_time": "2025-08-06T04:39:47.597094Z",
          "start_time": "2025-08-06T04:39:38.551529Z"
        },
        "id": "cxsmYTIAlaCb"
      },
      "outputs": [],
      "source": [
        "# ! pip install kagglehub\n",
        "# ! python3 -m pip install --upgrade pip\n",
        "# ! pip install openai"
      ]
    },
    {
      "cell_type": "code",
      "execution_count": 1,
      "metadata": {
        "ExecuteTime": {
          "end_time": "2025-08-06T04:38:57.935217Z",
          "start_time": "2025-08-06T04:38:54.328024Z"
        },
        "colab": {
          "base_uri": "https://localhost:8080/"
        },
        "id": "JOoJG_j1kqx-",
        "outputId": "37bf7372-88f7-490b-fabe-cf1f2636c453"
      },
      "outputs": [
        {
          "output_type": "stream",
          "name": "stdout",
          "text": [
            "Downloading from https://www.kaggle.com/api/v1/datasets/download/abdallahwagih/books-dataset?dataset_version_number=1...\n"
          ]
        },
        {
          "output_type": "stream",
          "name": "stderr",
          "text": [
            "100%|██████████| 1.58M/1.58M [00:00<00:00, 64.1MB/s]"
          ]
        },
        {
          "output_type": "stream",
          "name": "stdout",
          "text": [
            "Extracting files...\n",
            "Path to dataset files: /root/.cache/kagglehub/datasets/abdallahwagih/books-dataset/versions/1\n"
          ]
        },
        {
          "output_type": "stream",
          "name": "stderr",
          "text": [
            "\n"
          ]
        }
      ],
      "source": [
        "import kagglehub\n",
        "\n",
        "# Download latest version\n",
        "path = kagglehub.dataset_download(\"abdallahwagih/books-dataset\")\n",
        "\n",
        "print(\"Path to dataset files:\", path)"
      ]
    },
    {
      "cell_type": "code",
      "execution_count": 2,
      "metadata": {
        "id": "qO6wYRsdqxbh"
      },
      "outputs": [],
      "source": [
        "import os\n",
        "import pandas as pd\n",
        "import matplotlib.pyplot as plt\n",
        "import seaborn as sns\n",
        "from openai import OpenAI\n",
        "import json"
      ]
    },
    {
      "cell_type": "code",
      "execution_count": 3,
      "metadata": {
        "colab": {
          "base_uri": "https://localhost:8080/",
          "height": 330
        },
        "id": "3BHQYuHbqKNn",
        "outputId": "ab787d3c-79da-41bb-9a53-82b59a5047c1"
      },
      "outputs": [
        {
          "output_type": "stream",
          "name": "stdout",
          "text": [
            "data.csv\n",
            "intents.json\n"
          ]
        },
        {
          "output_type": "execute_result",
          "data": {
            "text/plain": [
              "          isbn13      isbn10           title subtitle  \\\n",
              "0  9780002005883  0002005883          Gilead      NaN   \n",
              "1  9780002261982  0002261987    Spider's Web  A Novel   \n",
              "2  9780006163831  0006163831    The One Tree      NaN   \n",
              "3  9780006178736  0006178731  Rage of angels      NaN   \n",
              "4  9780006280897  0006280897  The Four Loves      NaN   \n",
              "\n",
              "                           authors                     categories  \\\n",
              "0               Marilynne Robinson                        Fiction   \n",
              "1  Charles Osborne;Agatha Christie  Detective and mystery stories   \n",
              "2             Stephen R. Donaldson               American fiction   \n",
              "3                   Sidney Sheldon                        Fiction   \n",
              "4              Clive Staples Lewis                 Christian life   \n",
              "\n",
              "                                           thumbnail  \\\n",
              "0  http://books.google.com/books/content?id=KQZCP...   \n",
              "1  http://books.google.com/books/content?id=gA5GP...   \n",
              "2  http://books.google.com/books/content?id=OmQaw...   \n",
              "3  http://books.google.com/books/content?id=FKo2T...   \n",
              "4  http://books.google.com/books/content?id=XhQ5X...   \n",
              "\n",
              "                                         description  published_year  \\\n",
              "0  A NOVEL THAT READERS and critics have been eag...          2004.0   \n",
              "1  A new 'Christie for Christmas' -- a full-lengt...          2000.0   \n",
              "2  Volume Two of Stephen Donaldson's acclaimed se...          1982.0   \n",
              "3  A memorable, mesmerizing heroine Jennifer -- b...          1993.0   \n",
              "4  Lewis' work on the nature of love divides love...          2002.0   \n",
              "\n",
              "   average_rating  num_pages  ratings_count  \n",
              "0            3.85      247.0          361.0  \n",
              "1            3.83      241.0         5164.0  \n",
              "2            3.97      479.0          172.0  \n",
              "3            3.93      512.0        29532.0  \n",
              "4            4.15      170.0        33684.0  "
            ],
            "text/html": [
              "\n",
              "  <div id=\"df-06c4508f-4710-46a3-96a4-bfc12f33e4a5\" class=\"colab-df-container\">\n",
              "    <div>\n",
              "<style scoped>\n",
              "    .dataframe tbody tr th:only-of-type {\n",
              "        vertical-align: middle;\n",
              "    }\n",
              "\n",
              "    .dataframe tbody tr th {\n",
              "        vertical-align: top;\n",
              "    }\n",
              "\n",
              "    .dataframe thead th {\n",
              "        text-align: right;\n",
              "    }\n",
              "</style>\n",
              "<table border=\"1\" class=\"dataframe\">\n",
              "  <thead>\n",
              "    <tr style=\"text-align: right;\">\n",
              "      <th></th>\n",
              "      <th>isbn13</th>\n",
              "      <th>isbn10</th>\n",
              "      <th>title</th>\n",
              "      <th>subtitle</th>\n",
              "      <th>authors</th>\n",
              "      <th>categories</th>\n",
              "      <th>thumbnail</th>\n",
              "      <th>description</th>\n",
              "      <th>published_year</th>\n",
              "      <th>average_rating</th>\n",
              "      <th>num_pages</th>\n",
              "      <th>ratings_count</th>\n",
              "    </tr>\n",
              "  </thead>\n",
              "  <tbody>\n",
              "    <tr>\n",
              "      <th>0</th>\n",
              "      <td>9780002005883</td>\n",
              "      <td>0002005883</td>\n",
              "      <td>Gilead</td>\n",
              "      <td>NaN</td>\n",
              "      <td>Marilynne Robinson</td>\n",
              "      <td>Fiction</td>\n",
              "      <td>http://books.google.com/books/content?id=KQZCP...</td>\n",
              "      <td>A NOVEL THAT READERS and critics have been eag...</td>\n",
              "      <td>2004.0</td>\n",
              "      <td>3.85</td>\n",
              "      <td>247.0</td>\n",
              "      <td>361.0</td>\n",
              "    </tr>\n",
              "    <tr>\n",
              "      <th>1</th>\n",
              "      <td>9780002261982</td>\n",
              "      <td>0002261987</td>\n",
              "      <td>Spider's Web</td>\n",
              "      <td>A Novel</td>\n",
              "      <td>Charles Osborne;Agatha Christie</td>\n",
              "      <td>Detective and mystery stories</td>\n",
              "      <td>http://books.google.com/books/content?id=gA5GP...</td>\n",
              "      <td>A new 'Christie for Christmas' -- a full-lengt...</td>\n",
              "      <td>2000.0</td>\n",
              "      <td>3.83</td>\n",
              "      <td>241.0</td>\n",
              "      <td>5164.0</td>\n",
              "    </tr>\n",
              "    <tr>\n",
              "      <th>2</th>\n",
              "      <td>9780006163831</td>\n",
              "      <td>0006163831</td>\n",
              "      <td>The One Tree</td>\n",
              "      <td>NaN</td>\n",
              "      <td>Stephen R. Donaldson</td>\n",
              "      <td>American fiction</td>\n",
              "      <td>http://books.google.com/books/content?id=OmQaw...</td>\n",
              "      <td>Volume Two of Stephen Donaldson's acclaimed se...</td>\n",
              "      <td>1982.0</td>\n",
              "      <td>3.97</td>\n",
              "      <td>479.0</td>\n",
              "      <td>172.0</td>\n",
              "    </tr>\n",
              "    <tr>\n",
              "      <th>3</th>\n",
              "      <td>9780006178736</td>\n",
              "      <td>0006178731</td>\n",
              "      <td>Rage of angels</td>\n",
              "      <td>NaN</td>\n",
              "      <td>Sidney Sheldon</td>\n",
              "      <td>Fiction</td>\n",
              "      <td>http://books.google.com/books/content?id=FKo2T...</td>\n",
              "      <td>A memorable, mesmerizing heroine Jennifer -- b...</td>\n",
              "      <td>1993.0</td>\n",
              "      <td>3.93</td>\n",
              "      <td>512.0</td>\n",
              "      <td>29532.0</td>\n",
              "    </tr>\n",
              "    <tr>\n",
              "      <th>4</th>\n",
              "      <td>9780006280897</td>\n",
              "      <td>0006280897</td>\n",
              "      <td>The Four Loves</td>\n",
              "      <td>NaN</td>\n",
              "      <td>Clive Staples Lewis</td>\n",
              "      <td>Christian life</td>\n",
              "      <td>http://books.google.com/books/content?id=XhQ5X...</td>\n",
              "      <td>Lewis' work on the nature of love divides love...</td>\n",
              "      <td>2002.0</td>\n",
              "      <td>4.15</td>\n",
              "      <td>170.0</td>\n",
              "      <td>33684.0</td>\n",
              "    </tr>\n",
              "  </tbody>\n",
              "</table>\n",
              "</div>\n",
              "    <div class=\"colab-df-buttons\">\n",
              "\n",
              "  <div class=\"colab-df-container\">\n",
              "    <button class=\"colab-df-convert\" onclick=\"convertToInteractive('df-06c4508f-4710-46a3-96a4-bfc12f33e4a5')\"\n",
              "            title=\"Convert this dataframe to an interactive table.\"\n",
              "            style=\"display:none;\">\n",
              "\n",
              "  <svg xmlns=\"http://www.w3.org/2000/svg\" height=\"24px\" viewBox=\"0 -960 960 960\">\n",
              "    <path d=\"M120-120v-720h720v720H120Zm60-500h600v-160H180v160Zm220 220h160v-160H400v160Zm0 220h160v-160H400v160ZM180-400h160v-160H180v160Zm440 0h160v-160H620v160ZM180-180h160v-160H180v160Zm440 0h160v-160H620v160Z\"/>\n",
              "  </svg>\n",
              "    </button>\n",
              "\n",
              "  <style>\n",
              "    .colab-df-container {\n",
              "      display:flex;\n",
              "      gap: 12px;\n",
              "    }\n",
              "\n",
              "    .colab-df-convert {\n",
              "      background-color: #E8F0FE;\n",
              "      border: none;\n",
              "      border-radius: 50%;\n",
              "      cursor: pointer;\n",
              "      display: none;\n",
              "      fill: #1967D2;\n",
              "      height: 32px;\n",
              "      padding: 0 0 0 0;\n",
              "      width: 32px;\n",
              "    }\n",
              "\n",
              "    .colab-df-convert:hover {\n",
              "      background-color: #E2EBFA;\n",
              "      box-shadow: 0px 1px 2px rgba(60, 64, 67, 0.3), 0px 1px 3px 1px rgba(60, 64, 67, 0.15);\n",
              "      fill: #174EA6;\n",
              "    }\n",
              "\n",
              "    .colab-df-buttons div {\n",
              "      margin-bottom: 4px;\n",
              "    }\n",
              "\n",
              "    [theme=dark] .colab-df-convert {\n",
              "      background-color: #3B4455;\n",
              "      fill: #D2E3FC;\n",
              "    }\n",
              "\n",
              "    [theme=dark] .colab-df-convert:hover {\n",
              "      background-color: #434B5C;\n",
              "      box-shadow: 0px 1px 3px 1px rgba(0, 0, 0, 0.15);\n",
              "      filter: drop-shadow(0px 1px 2px rgba(0, 0, 0, 0.3));\n",
              "      fill: #FFFFFF;\n",
              "    }\n",
              "  </style>\n",
              "\n",
              "    <script>\n",
              "      const buttonEl =\n",
              "        document.querySelector('#df-06c4508f-4710-46a3-96a4-bfc12f33e4a5 button.colab-df-convert');\n",
              "      buttonEl.style.display =\n",
              "        google.colab.kernel.accessAllowed ? 'block' : 'none';\n",
              "\n",
              "      async function convertToInteractive(key) {\n",
              "        const element = document.querySelector('#df-06c4508f-4710-46a3-96a4-bfc12f33e4a5');\n",
              "        const dataTable =\n",
              "          await google.colab.kernel.invokeFunction('convertToInteractive',\n",
              "                                                    [key], {});\n",
              "        if (!dataTable) return;\n",
              "\n",
              "        const docLinkHtml = 'Like what you see? Visit the ' +\n",
              "          '<a target=\"_blank\" href=https://colab.research.google.com/notebooks/data_table.ipynb>data table notebook</a>'\n",
              "          + ' to learn more about interactive tables.';\n",
              "        element.innerHTML = '';\n",
              "        dataTable['output_type'] = 'display_data';\n",
              "        await google.colab.output.renderOutput(dataTable, element);\n",
              "        const docLink = document.createElement('div');\n",
              "        docLink.innerHTML = docLinkHtml;\n",
              "        element.appendChild(docLink);\n",
              "      }\n",
              "    </script>\n",
              "  </div>\n",
              "\n",
              "\n",
              "    <div id=\"df-a4029f31-c874-4682-b9d4-67fb6a46629f\">\n",
              "      <button class=\"colab-df-quickchart\" onclick=\"quickchart('df-a4029f31-c874-4682-b9d4-67fb6a46629f')\"\n",
              "                title=\"Suggest charts\"\n",
              "                style=\"display:none;\">\n",
              "\n",
              "<svg xmlns=\"http://www.w3.org/2000/svg\" height=\"24px\"viewBox=\"0 0 24 24\"\n",
              "     width=\"24px\">\n",
              "    <g>\n",
              "        <path d=\"M19 3H5c-1.1 0-2 .9-2 2v14c0 1.1.9 2 2 2h14c1.1 0 2-.9 2-2V5c0-1.1-.9-2-2-2zM9 17H7v-7h2v7zm4 0h-2V7h2v10zm4 0h-2v-4h2v4z\"/>\n",
              "    </g>\n",
              "</svg>\n",
              "      </button>\n",
              "\n",
              "<style>\n",
              "  .colab-df-quickchart {\n",
              "      --bg-color: #E8F0FE;\n",
              "      --fill-color: #1967D2;\n",
              "      --hover-bg-color: #E2EBFA;\n",
              "      --hover-fill-color: #174EA6;\n",
              "      --disabled-fill-color: #AAA;\n",
              "      --disabled-bg-color: #DDD;\n",
              "  }\n",
              "\n",
              "  [theme=dark] .colab-df-quickchart {\n",
              "      --bg-color: #3B4455;\n",
              "      --fill-color: #D2E3FC;\n",
              "      --hover-bg-color: #434B5C;\n",
              "      --hover-fill-color: #FFFFFF;\n",
              "      --disabled-bg-color: #3B4455;\n",
              "      --disabled-fill-color: #666;\n",
              "  }\n",
              "\n",
              "  .colab-df-quickchart {\n",
              "    background-color: var(--bg-color);\n",
              "    border: none;\n",
              "    border-radius: 50%;\n",
              "    cursor: pointer;\n",
              "    display: none;\n",
              "    fill: var(--fill-color);\n",
              "    height: 32px;\n",
              "    padding: 0;\n",
              "    width: 32px;\n",
              "  }\n",
              "\n",
              "  .colab-df-quickchart:hover {\n",
              "    background-color: var(--hover-bg-color);\n",
              "    box-shadow: 0 1px 2px rgba(60, 64, 67, 0.3), 0 1px 3px 1px rgba(60, 64, 67, 0.15);\n",
              "    fill: var(--button-hover-fill-color);\n",
              "  }\n",
              "\n",
              "  .colab-df-quickchart-complete:disabled,\n",
              "  .colab-df-quickchart-complete:disabled:hover {\n",
              "    background-color: var(--disabled-bg-color);\n",
              "    fill: var(--disabled-fill-color);\n",
              "    box-shadow: none;\n",
              "  }\n",
              "\n",
              "  .colab-df-spinner {\n",
              "    border: 2px solid var(--fill-color);\n",
              "    border-color: transparent;\n",
              "    border-bottom-color: var(--fill-color);\n",
              "    animation:\n",
              "      spin 1s steps(1) infinite;\n",
              "  }\n",
              "\n",
              "  @keyframes spin {\n",
              "    0% {\n",
              "      border-color: transparent;\n",
              "      border-bottom-color: var(--fill-color);\n",
              "      border-left-color: var(--fill-color);\n",
              "    }\n",
              "    20% {\n",
              "      border-color: transparent;\n",
              "      border-left-color: var(--fill-color);\n",
              "      border-top-color: var(--fill-color);\n",
              "    }\n",
              "    30% {\n",
              "      border-color: transparent;\n",
              "      border-left-color: var(--fill-color);\n",
              "      border-top-color: var(--fill-color);\n",
              "      border-right-color: var(--fill-color);\n",
              "    }\n",
              "    40% {\n",
              "      border-color: transparent;\n",
              "      border-right-color: var(--fill-color);\n",
              "      border-top-color: var(--fill-color);\n",
              "    }\n",
              "    60% {\n",
              "      border-color: transparent;\n",
              "      border-right-color: var(--fill-color);\n",
              "    }\n",
              "    80% {\n",
              "      border-color: transparent;\n",
              "      border-right-color: var(--fill-color);\n",
              "      border-bottom-color: var(--fill-color);\n",
              "    }\n",
              "    90% {\n",
              "      border-color: transparent;\n",
              "      border-bottom-color: var(--fill-color);\n",
              "    }\n",
              "  }\n",
              "</style>\n",
              "\n",
              "      <script>\n",
              "        async function quickchart(key) {\n",
              "          const quickchartButtonEl =\n",
              "            document.querySelector('#' + key + ' button');\n",
              "          quickchartButtonEl.disabled = true;  // To prevent multiple clicks.\n",
              "          quickchartButtonEl.classList.add('colab-df-spinner');\n",
              "          try {\n",
              "            const charts = await google.colab.kernel.invokeFunction(\n",
              "                'suggestCharts', [key], {});\n",
              "          } catch (error) {\n",
              "            console.error('Error during call to suggestCharts:', error);\n",
              "          }\n",
              "          quickchartButtonEl.classList.remove('colab-df-spinner');\n",
              "          quickchartButtonEl.classList.add('colab-df-quickchart-complete');\n",
              "        }\n",
              "        (() => {\n",
              "          let quickchartButtonEl =\n",
              "            document.querySelector('#df-a4029f31-c874-4682-b9d4-67fb6a46629f button');\n",
              "          quickchartButtonEl.style.display =\n",
              "            google.colab.kernel.accessAllowed ? 'block' : 'none';\n",
              "        })();\n",
              "      </script>\n",
              "    </div>\n",
              "\n",
              "    </div>\n",
              "  </div>\n"
            ],
            "application/vnd.google.colaboratory.intrinsic+json": {
              "type": "dataframe",
              "variable_name": "df",
              "summary": "{\n  \"name\": \"df\",\n  \"rows\": 6810,\n  \"fields\": [\n    {\n      \"column\": \"isbn13\",\n      \"properties\": {\n        \"dtype\": \"number\",\n        \"std\": 606891056,\n        \"min\": 9780002005883,\n        \"max\": 9789042003408,\n        \"num_unique_values\": 6810,\n        \"samples\": [\n          9780312994815,\n          9780671823498,\n          9780375725036\n        ],\n        \"semantic_type\": \"\",\n        \"description\": \"\"\n      }\n    },\n    {\n      \"column\": \"isbn10\",\n      \"properties\": {\n        \"dtype\": \"string\",\n        \"num_unique_values\": 6810,\n        \"samples\": [\n          \"0312994818\",\n          \"0671823493\",\n          \"0375725032\"\n        ],\n        \"semantic_type\": \"\",\n        \"description\": \"\"\n      }\n    },\n    {\n      \"column\": \"title\",\n      \"properties\": {\n        \"dtype\": \"string\",\n        \"num_unique_values\": 6398,\n        \"samples\": [\n          \"Rebekah\",\n          \"How to be a Perfect Stranger\",\n          \"Euripides, 3\"\n        ],\n        \"semantic_type\": \"\",\n        \"description\": \"\"\n      }\n    },\n    {\n      \"column\": \"subtitle\",\n      \"properties\": {\n        \"dtype\": \"category\",\n        \"num_unique_values\": 2009,\n        \"samples\": [\n          \"C.S. Lewis, Madeleine L'Engle, J.R. Tolkien, George MacDonald, G.K. Chesterton, Charles Williams, Dante Alighieri, John Bunyan, Walter Wangerin, Robert Siegel, and Hannah Hurnard\",\n          \"A Philosophical Translation\",\n          \"A Story of Race and Inheritance\"\n        ],\n        \"semantic_type\": \"\",\n        \"description\": \"\"\n      }\n    },\n    {\n      \"column\": \"authors\",\n      \"properties\": {\n        \"dtype\": \"string\",\n        \"num_unique_values\": 3780,\n        \"samples\": [\n          \"Daisetz Teitaro Suzuki;Erich Fromm;Richard De Martino\",\n          \"Roberta Gellis\",\n          \"Toni Morrison\"\n        ],\n        \"semantic_type\": \"\",\n        \"description\": \"\"\n      }\n    },\n    {\n      \"column\": \"categories\",\n      \"properties\": {\n        \"dtype\": \"category\",\n        \"num_unique_values\": 567,\n        \"samples\": [\n          \"Mars (Planet)\",\n          \"Assassins\",\n          \"United States\"\n        ],\n        \"semantic_type\": \"\",\n        \"description\": \"\"\n      }\n    },\n    {\n      \"column\": \"thumbnail\",\n      \"properties\": {\n        \"dtype\": \"string\",\n        \"num_unique_values\": 6481,\n        \"samples\": [\n          \"http://books.google.com/books/content?id=5cVKKLSC788C&printsec=frontcover&img=1&zoom=1&edge=curl&source=gbs_api\",\n          \"http://books.google.com/books/content?id=5o70W8CR6vMC&printsec=frontcover&img=1&zoom=1&source=gbs_api\",\n          \"http://books.google.com/books/content?id=M2JQxGf2Ex8C&printsec=frontcover&img=1&zoom=1&source=gbs_api\"\n        ],\n        \"semantic_type\": \"\",\n        \"description\": \"\"\n      }\n    },\n    {\n      \"column\": \"description\",\n      \"properties\": {\n        \"dtype\": \"string\",\n        \"num_unique_values\": 6474,\n        \"samples\": [\n          \"When sixteen-year-old Beka becomes \\\"Puppy\\\" to a pair of \\\"Dogs,\\\" as the Provost's Guards are called, she uses her police training, natural abilities, and a touch of magic to help them solve the case of a murdered baby in Tortall's Lower City.\",\n          \"The controversial memoir of a top British spy which finally reveals what really went on behind the scenes of the Falklands War For five years before the Falklands War, Hugh Bicheno was one of the top British spies in Argentina. As such, he gathered hard, corroborated intelligence on Argentine intentions over the Falklands - which the British establishment then chose to ignore. The reasons behind this British decision, and its disastrous and inevitable consequences in the South Atlantic, are the main story of this book. There were three main players in the war, each of them trying to overcome their own cultural baggage. The Argentines were riddled with guilt: after years of fighting a morally repugnant campaign against its own people, the Argentine military saw a war for the Malvinas islands as a perfect opportunity to win back their self-respect. The hands of the Americans were also bloody from the likewise dirty wars they had sponsored and abetted in Central America. For Britain it was simply the last straw after decades of humiliation.\",\n          \"Detective Sergeant Lloyd Hopkins of the LAPD, fueled by a desire to protect innocence, confronts a murderer who is driven by the same forces when he investigates a series of murders of young women in the Los Angeles area. Reprint. 15,000 first printing.\"\n        ],\n        \"semantic_type\": \"\",\n        \"description\": \"\"\n      }\n    },\n    {\n      \"column\": \"published_year\",\n      \"properties\": {\n        \"dtype\": \"number\",\n        \"std\": 10.48425716008255,\n        \"min\": 1853.0,\n        \"max\": 2019.0,\n        \"num_unique_values\": 94,\n        \"samples\": [\n          1980.0,\n          1966.0,\n          1975.0\n        ],\n        \"semantic_type\": \"\",\n        \"description\": \"\"\n      }\n    },\n    {\n      \"column\": \"average_rating\",\n      \"properties\": {\n        \"dtype\": \"number\",\n        \"std\": 0.33135160616178455,\n        \"min\": 0.0,\n        \"max\": 5.0,\n        \"num_unique_values\": 200,\n        \"samples\": [\n          4.5,\n          4.23,\n          3.56\n        ],\n        \"semantic_type\": \"\",\n        \"description\": \"\"\n      }\n    },\n    {\n      \"column\": \"num_pages\",\n      \"properties\": {\n        \"dtype\": \"number\",\n        \"std\": 242.37678264542132,\n        \"min\": 0.0,\n        \"max\": 3342.0,\n        \"num_unique_values\": 915,\n        \"samples\": [\n          154.0,\n          3020.0,\n          138.0\n        ],\n        \"semantic_type\": \"\",\n        \"description\": \"\"\n      }\n    },\n    {\n      \"column\": \"ratings_count\",\n      \"properties\": {\n        \"dtype\": \"number\",\n        \"std\": 137620.6786468925,\n        \"min\": 0.0,\n        \"max\": 5629932.0,\n        \"num_unique_values\": 3881,\n        \"samples\": [\n          23456.0,\n          213.0,\n          554.0\n        ],\n        \"semantic_type\": \"\",\n        \"description\": \"\"\n      }\n    }\n  ]\n}"
            }
          },
          "metadata": {},
          "execution_count": 3
        }
      ],
      "source": [
        "for file in os.listdir(path):\n",
        "    print(file)\n",
        "\n",
        "df = pd.read_csv(path + \"/data.csv\" )\n",
        "df.head()"
      ]
    },
    {
      "cell_type": "code",
      "execution_count": 4,
      "metadata": {
        "colab": {
          "base_uri": "https://localhost:8080/"
        },
        "id": "i6Jo09C9qjvP",
        "outputId": "ae9f9b8b-f3b7-461e-b160-2637216ad90c"
      },
      "outputs": [
        {
          "output_type": "stream",
          "name": "stdout",
          "text": [
            "<class 'pandas.core.frame.DataFrame'>\n",
            "RangeIndex: 6810 entries, 0 to 6809\n",
            "Data columns (total 12 columns):\n",
            " #   Column          Non-Null Count  Dtype  \n",
            "---  ------          --------------  -----  \n",
            " 0   isbn13          6810 non-null   int64  \n",
            " 1   isbn10          6810 non-null   object \n",
            " 2   title           6810 non-null   object \n",
            " 3   subtitle        2381 non-null   object \n",
            " 4   authors         6738 non-null   object \n",
            " 5   categories      6711 non-null   object \n",
            " 6   thumbnail       6481 non-null   object \n",
            " 7   description     6548 non-null   object \n",
            " 8   published_year  6804 non-null   float64\n",
            " 9   average_rating  6767 non-null   float64\n",
            " 10  num_pages       6767 non-null   float64\n",
            " 11  ratings_count   6767 non-null   float64\n",
            "dtypes: float64(4), int64(1), object(7)\n",
            "memory usage: 638.6+ KB\n"
          ]
        }
      ],
      "source": [
        "df.info()"
      ]
    },
    {
      "cell_type": "code",
      "execution_count": 5,
      "metadata": {
        "colab": {
          "base_uri": "https://localhost:8080/",
          "height": 742
        },
        "id": "SnWStqEnyPUx",
        "outputId": "d8f239c0-09da-499b-b210-8ae4fdd8319e"
      },
      "outputs": [
        {
          "output_type": "execute_result",
          "data": {
            "text/plain": [
              "categories\n",
              "Fiction                      2588\n",
              "Juvenile Fiction              538\n",
              "Biography & Autobiography     401\n",
              "History                       264\n",
              "Literary Criticism            166\n",
              "Philosophy                    160\n",
              "Comics & Graphic Novels       159\n",
              "Religion                      137\n",
              "Drama                         132\n",
              "Juvenile Nonfiction           116\n",
              "Poetry                         79\n",
              "Science                        71\n",
              "Literary Collections           71\n",
              "Business & Economics           67\n",
              "Social Science                 60\n",
              "Performing Arts                50\n",
              "Cooking                        47\n",
              "Art                            46\n",
              "Body, Mind & Spirit            44\n",
              "Travel                         43\n",
              "Name: count, dtype: int64"
            ],
            "text/html": [
              "<div>\n",
              "<style scoped>\n",
              "    .dataframe tbody tr th:only-of-type {\n",
              "        vertical-align: middle;\n",
              "    }\n",
              "\n",
              "    .dataframe tbody tr th {\n",
              "        vertical-align: top;\n",
              "    }\n",
              "\n",
              "    .dataframe thead th {\n",
              "        text-align: right;\n",
              "    }\n",
              "</style>\n",
              "<table border=\"1\" class=\"dataframe\">\n",
              "  <thead>\n",
              "    <tr style=\"text-align: right;\">\n",
              "      <th></th>\n",
              "      <th>count</th>\n",
              "    </tr>\n",
              "    <tr>\n",
              "      <th>categories</th>\n",
              "      <th></th>\n",
              "    </tr>\n",
              "  </thead>\n",
              "  <tbody>\n",
              "    <tr>\n",
              "      <th>Fiction</th>\n",
              "      <td>2588</td>\n",
              "    </tr>\n",
              "    <tr>\n",
              "      <th>Juvenile Fiction</th>\n",
              "      <td>538</td>\n",
              "    </tr>\n",
              "    <tr>\n",
              "      <th>Biography &amp; Autobiography</th>\n",
              "      <td>401</td>\n",
              "    </tr>\n",
              "    <tr>\n",
              "      <th>History</th>\n",
              "      <td>264</td>\n",
              "    </tr>\n",
              "    <tr>\n",
              "      <th>Literary Criticism</th>\n",
              "      <td>166</td>\n",
              "    </tr>\n",
              "    <tr>\n",
              "      <th>Philosophy</th>\n",
              "      <td>160</td>\n",
              "    </tr>\n",
              "    <tr>\n",
              "      <th>Comics &amp; Graphic Novels</th>\n",
              "      <td>159</td>\n",
              "    </tr>\n",
              "    <tr>\n",
              "      <th>Religion</th>\n",
              "      <td>137</td>\n",
              "    </tr>\n",
              "    <tr>\n",
              "      <th>Drama</th>\n",
              "      <td>132</td>\n",
              "    </tr>\n",
              "    <tr>\n",
              "      <th>Juvenile Nonfiction</th>\n",
              "      <td>116</td>\n",
              "    </tr>\n",
              "    <tr>\n",
              "      <th>Poetry</th>\n",
              "      <td>79</td>\n",
              "    </tr>\n",
              "    <tr>\n",
              "      <th>Science</th>\n",
              "      <td>71</td>\n",
              "    </tr>\n",
              "    <tr>\n",
              "      <th>Literary Collections</th>\n",
              "      <td>71</td>\n",
              "    </tr>\n",
              "    <tr>\n",
              "      <th>Business &amp; Economics</th>\n",
              "      <td>67</td>\n",
              "    </tr>\n",
              "    <tr>\n",
              "      <th>Social Science</th>\n",
              "      <td>60</td>\n",
              "    </tr>\n",
              "    <tr>\n",
              "      <th>Performing Arts</th>\n",
              "      <td>50</td>\n",
              "    </tr>\n",
              "    <tr>\n",
              "      <th>Cooking</th>\n",
              "      <td>47</td>\n",
              "    </tr>\n",
              "    <tr>\n",
              "      <th>Art</th>\n",
              "      <td>46</td>\n",
              "    </tr>\n",
              "    <tr>\n",
              "      <th>Body, Mind &amp; Spirit</th>\n",
              "      <td>44</td>\n",
              "    </tr>\n",
              "    <tr>\n",
              "      <th>Travel</th>\n",
              "      <td>43</td>\n",
              "    </tr>\n",
              "  </tbody>\n",
              "</table>\n",
              "</div><br><label><b>dtype:</b> int64</label>"
            ]
          },
          "metadata": {},
          "execution_count": 5
        }
      ],
      "source": [
        "df['categories'].value_counts().head(20)"
      ]
    },
    {
      "cell_type": "code",
      "execution_count": 10,
      "metadata": {
        "colab": {
          "base_uri": "https://localhost:8080/",
          "height": 458
        },
        "id": "uowG00j5saDH",
        "outputId": "c37e0f97-59fe-44a1-d2ce-60e47104e4f0"
      },
      "outputs": [
        {
          "output_type": "display_data",
          "data": {
            "text/plain": [
              "<Figure size 640x480 with 1 Axes>"
            ],
            "image/png": "[encoded data removed]"
          },
          "metadata": {}
        }
      ],
      "source": [
        "# print the num_pages and ratings_count on bar charts\n",
        "\n",
        "plt.figure()\n",
        "sns.set_theme(style=\"darkgrid\")\n",
        "sns.histplot(x=df['num_pages'], bins=50)\n",
        "plt.show()"
      ]
    },
    {
      "cell_type": "code",
      "execution_count": 9,
      "metadata": {
        "colab": {
          "base_uri": "https://localhost:8080/",
          "height": 458
        },
        "id": "pftA6a3ntIGf",
        "outputId": "6e5459ab-d244-4768-cc73-057abf6cadb1"
      },
      "outputs": [
        {
          "output_type": "display_data",
          "data": {
            "text/plain": [
              "<Figure size 640x480 with 1 Axes>"
            ],
            "image/png": "[encoded data removed]"
          },
          "metadata": {}
        }
      ],
      "source": [
        "plt.figure()\n",
        "sns.set_theme(style=\"darkgrid\")\n",
        "sns.histplot(x=df['published_year'], bins=50)\n",
        "plt.show()"
      ]
    },
    {
      "cell_type": "code",
      "execution_count": 11,
      "metadata": {
        "id": "mVFF4DWfuSNH",
        "outputId": "ebac4c34-42cc-4884-9ddf-c13efd157432",
        "colab": {
          "base_uri": "https://localhost:8080/"
        }
      },
      "outputs": [
        {
          "output_type": "stream",
          "name": "stdout",
          "text": [
            "keys imported from Google Colab userdata\n"
          ]
        }
      ],
      "source": [
        "try:\n",
        "    from google.colab import userdata\n",
        "    pplx_key = userdata.get('PREPLEXITY_API_KEY')\n",
        "    openai_key = userdata.get('OPENAI_KEY')\n",
        "    print(\"keys imported from Google Colab userdata\")\n",
        "except:\n",
        "    import dotenv\n",
        "    from dotenv import load_dotenv\n",
        "    import os\n",
        "    load_dotenv()\n",
        "    pplx_key = os.getenv('PREPLEXITY_API_KEY')\n",
        "    openai_key = os.getenv('OPENAI_API_KEY')\n",
        "    print(\"keys imported from local .env file\")"
      ]
    },
    {
      "cell_type": "code",
      "execution_count": 32,
      "metadata": {
        "id": "lsCTsn8lwFus"
      },
      "outputs": [],
      "source": [
        "def initialize_conversation():\n",
        "  delimiter = \"####\"\n",
        "  example_user_dict = {\n",
        "      'categories' : 'history',\n",
        "      'book size' : 'long',\n",
        "      'author' : 'sidney sheldon',\n",
        "      'title' : '_',\n",
        "      'book age' : '_'\n",
        "  }\n",
        "\n",
        "  system_message = f\"\"\"\n",
        "  You are an expert academician and an avid reader. Your task is to recommend books to the user.\n",
        "  You need to get inputs from the user, understand their need to what kind of book they want to read. If the user is talking about something beyond book reading,\n",
        "  you need to inform the user that you cannot assist with their request.\n",
        "  For user inputs, you need to capture information in python dictionary. The dicitonary would look like this:\n",
        "  {{\n",
        "      'categories' : 'values',\n",
        "      'book size' : 'values',\n",
        "      'author' : 'values',\n",
        "      'title' : 'values',\n",
        "      'book age' : 'values'\n",
        "  }}\n",
        "  {delimiter} If the user ask is not related to book then you need to inform user that \"I'm sorry, but I can only help with book recommendations.\"\n",
        "\n",
        "  {delimiter}\n",
        "\n",
        "  Here are some instructions around the values of these keys.\n",
        "  - 'categories' and 'book size' are mandatory inputs and should be taken from user input.\n",
        "  - 'book size' should strictly be 'small', 'medium' and 'large'\n",
        "  - 'book age' should strictly be 'new', 'old' and 'very old'\n",
        "  - 'categories' should be one of the genres like history, fiction, non-fiction, science, etc.\n",
        "  - User may not have any preference for title or book age. In that case, you can fill the value as 'No Preference'.\n",
        "\n",
        "  {delimiter}\n",
        "\n",
        "  To fill the dictionary, you need to have following chain of thoughts:\n",
        "\n",
        "  {delimiter}\n",
        "  Thought 1: Ask a question to the user about what kind of book they want to read. Try and understand the genre \\n\n",
        "  or category of the book. Also, ask if they have any preference for any author or book title or how big the book should \\n\n",
        "  be or how old the book should be. Identify the keys for which you can fill the values confidently using the understanding \\n\n",
        "\n",
        "  {delimiter}\n",
        "  Thought 2: Now, you are trying to fill the values for the rest of the keys which you couldn't in the previous step. \\n\n",
        "  Remember the instructions around the values for the different keys. Ask questions you might have for all the keys to \\n\n",
        "  strengthen your understanding of the user's profile. If yes, move to the next Thought. If no, ask question on the keys \\n\n",
        "  whose values you are unsure of. It is a good practice to ask question with a sound logic as opposed to directly citing \\n\n",
        "  the key you want to understand value for.\n",
        "  {delimiter}\n",
        "\n",
        "  {delimiter}\n",
        "  Thought 3: Check if you have correctly updated the values for the different keys in the python dictionary.\n",
        "  If you are not confident about any of the values, ask clarifying questions.\n",
        "  {delimiter}\n",
        "\n",
        "  Here is a sample conversation between the user and the assistant:\n",
        "  User: \"Hi, i am a student\"\n",
        "  Assistant: \"Great. Being a student, you would really want to understand the world, life, nature, history. What kind of books \\n\n",
        "  would you like to read?\"\n",
        "  User: \"I want to read a book about history\"\n",
        "  Assistant: \"Thank you for the information. Are you interested in american history in particular?\"\n",
        "  User: \"No. I read any history\".\n",
        "  Assistant: \"Sure, do you have any preference for an author?\"\n",
        "  User: \"Yes. Sindney Sheldon\"\n",
        "  Assistant: \"{example_user_dict}\"\n",
        "\n",
        "  Start with a short welcome message and encourage the user to share their requirements.\n",
        "\n",
        "  \"\"\"\n",
        "\n",
        "  conversation = [{\"role\" : \"system\", \"content\": system_message}]\n",
        "  return conversation"
      ]
    },
    {
      "cell_type": "code",
      "execution_count": 13,
      "metadata": {
        "colab": {
          "base_uri": "https://localhost:8080/"
        },
        "id": "iwDOMDj6y0yo",
        "outputId": "1d8cbc67-e53f-42d6-d3db-20d25ab33800"
      },
      "outputs": [
        {
          "output_type": "execute_result",
          "data": {
            "text/plain": [
              "[{'role': 'system',\n",
              "  'content': '\\n  You are an expert academician and an avid reader. Your task is to recommend books to the user.\\n  You need to get inputs from the user, understand their need to what kind of book they want to read and capture\\n  information in python dictionary. The dicitonary would look like this:\\n  {\\n      \\'categories\\' : \\'values\\',\\n      \\'book size\\' : \\'values\\',\\n      \\'author\\' : \\'values\\',\\n      \\'title\\' : \\'values\\',\\n      \\'book age\\' : \\'values\\'\\n  }\\n  #### If the user ask is not related to book then you need to inform user that \"I\\'m sorry, but I can only help with book recommendations.\"\\n\\n  ####\\n\\n  Here are some instructions around the values of these keys.\\n  - \\'book size\\' should strictly be \\'small\\', \\'medium\\' and \\'large\\'\\n  - \\'book age\\' should strictly be \\'new\\', \\'old\\' and \\'very old\\'\\n  - \\'categories\\' should be one of the genres like history, fiction, non-fiction, science, etc. \\n  - User may not have any preference for title or book age. In that case, you can fill the value as \\'No Preference\\'\\n\\n  ####\\n\\n  To fill the dictionary, you need to have following chain of thoughts:\\n\\n  ####\\n  Thought 1: Ask a question to the user about what kind of book they want to read. Try and understand the genre \\n\\n  or category of the book. Also, ask if they have any preference for any author or book title or how big the book should \\n\\n  be or how old the book should be. Identify the keys for which you can fill the values confidently using the understanding \\n\\n\\n  ####\\n  Thought 2: Now, you are trying to fill the values for the rest of the keys which you couldn\\'t in the previous step. \\n\\n  Remember the instructions around the values for the different keys. Ask questions you might have for all the keys to \\n\\n  strengthen your understanding of the user\\'s profile. If yes, move to the next Thought. If no, ask question on the keys \\n\\n  whose values you are unsure of. It is a good practice to ask question with a sound logic as opposed to directly citing \\n\\n  the key you want to understand value for.\\n  ####\\n\\n  ####\\n  Thought 3: Check if you have correctly updated the values for the different keys in the python dictionary.\\n  If you are not confident about any of the values, ask clarifying questions.\\n  ####\\n\\n  Here is a sample conversation between the user and the assistant:\\n  User: \"Hi, i am a student\"\\n  Assistant: \"Great. Being a student, you would really want to understand the world, life, nature, history. What kind of books \\n\\n  would you like to read?\"\\n  User: \"I want to read a book about history\"\\n  Assistant: \"Thank you for the information. Are you interested in american history in particular?\"\\n  User: \"No. I read any history\".\\n  Assistant: \"Sure, do you have any preference for an author?\"\\n  User: \"Yes. Sindney Sheldon\"\\n  Assistant: \"{\\'categories\\': \\'history\\', \\'book size\\': \\'long\\', \\'author\\': \\'sidney sheldon\\', \\'title\\': \\'_\\', \\'book age\\': \\'_\\'}\"\\n\\n  Start with a short welcome message and encourage the user to share their requirements.\\n\\n  '}]"
            ]
          },
          "metadata": {},
          "execution_count": 13
        }
      ],
      "source": [
        "initialize_conversation()"
      ]
    },
    {
      "cell_type": "code",
      "execution_count": 14,
      "metadata": {
        "id": "j_CvSNWg4Gr3"
      },
      "outputs": [],
      "source": [
        "client = OpenAI(api_key = pplx_key, base_url=\"https://api.perplexity.ai\")\n",
        "model_name = \"sonar-pro\""
      ]
    },
    {
      "cell_type": "code",
      "execution_count": 15,
      "metadata": {
        "id": "KMZ-pTPf42HR"
      },
      "outputs": [],
      "source": [
        "def get_chat_model_completions(input, json_format = False ):\n",
        "\n",
        "  # model_name = \"gpt-3.5-turbo\"\n",
        "\n",
        "  if json_format == True:\n",
        "    system_mesage_json_output = \"\"\"<<. Return the output in JSON format.>> \"\"\"\n",
        "    input[0][\"content\"] += system_mesage_json_output\n",
        "\n",
        "    response = client.chat.completions.create(\n",
        "        model = model_name,\n",
        "        messages = input,\n",
        "        temperature=0,\n",
        "        max_tokens=500,\n",
        "        # response_format = {\"type\" : \"json_object\"},\n",
        "        seed = 1234\n",
        "    )\n",
        "    print(response.choices[0].message.content)\n",
        "    output = json.loads(response.choices[0].message.content)\n",
        "  else:\n",
        "    response = client.chat.completions.create(\n",
        "        model = model_name,\n",
        "        messages = input,\n",
        "        temperature=0,\n",
        "        max_tokens=500,\n",
        "        seed = 2345\n",
        "    )\n",
        "    output = response.choices[0].message.content\n",
        "\n",
        "\n",
        "  return output"
      ]
    },
    {
      "cell_type": "code",
      "execution_count": 16,
      "metadata": {
        "colab": {
          "base_uri": "https://localhost:8080/"
        },
        "id": "UGmorDKa5MkS",
        "outputId": "904c360d-228d-4056-afd9-2f6865a07c95"
      },
      "outputs": [
        {
          "output_type": "stream",
          "name": "stdout",
          "text": [
            "A book is a structured work of recorded information—traditionally a set of pages bound together in covers—serving as both a physical object and an intellectual composition.[5][4]\n",
            "\n",
            "- As a **physical object**: a book is “a set of written, printed, or blank sheets bound together between a front and back cover.”[5] Wikipedia similarly frames it as a presentation of recorded information through a medium, originally physical, later also electronic (e-books).[4]\n",
            "\n",
            "- As an **intellectual work**: a book can mean a substantial written composition or a major division within a larger work (e.g., the “books” of the Bible).[5] Scholars describe the book as both an object and an idea: finite in form yet conceptually open, with its material and intellectual dimensions inseparable.[3]\n",
            "\n",
            "- **Forms and types**:\n",
            "  - Physical codex (hardcover, paperback), manuscripts, logbooks, directories.[4]\n",
            "  - **E-books** are recognized as books in digital form.[5]\n",
            "  - Content can be **fiction** (novels, novellas, short stories, graphic novels) or **non‑fiction** (reference works, records, scholarly texts).[4]\n",
            "\n",
            "- **Common components** of printed books include cover, title page, copyright page, table of contents, introduction, body, and conclusion.[2]\n",
            "\n",
            "In book history, some define a book along three intertwined dimensions: a **text**, an **object**, and a **transaction**—highlighting content, material form, and social/market exchange.[1]\n"
          ]
        }
      ],
      "source": [
        "## Unit test\n",
        "\n",
        "input_prompt = \"what is a book\"\n",
        "x_input = [{\"role\" : \"user\", \"content\" : input_prompt}]\n",
        "print(get_chat_model_completions(x_input))"
      ]
    },
    {
      "cell_type": "code",
      "execution_count": 17,
      "metadata": {
        "colab": {
          "base_uri": "https://localhost:8080/"
        },
        "id": "C3FUUPqJ6Yyt",
        "outputId": "72ede182-3658-4192-cb71-ff2ef0ce694e"
      },
      "outputs": [
        {
          "output_type": "stream",
          "name": "stdout",
          "text": [
            "{\n",
            "  \"query\": \"what is a book\",\n",
            "  \"answer\": \"A book is a structured presentation of recorded information—typically verbal and/or graphical—contained in a medium; historically this meant printed pages bound together, and today it also includes electronic books (ebooks). [5]\",\n",
            "  \"details\": {\n",
            "    \"physical_definition\": \"In its traditional form, a book is a series of pages or sheets bound together within covers, with most modern pages made from uncoated paper stock. [1]\",\n",
            "    \"common_components\": [\n",
            "      \"cover\",\n",
            "      \"title page\",\n",
            "      \"copyright page\",\n",
            "      \"table of contents\",\n",
            "      \"introduction\",\n",
            "      \"body\",\n",
            "      \"conclusion\",\n",
            "      \"back cover\"\n",
            "    ],\n",
            "    \"source_for_components\": \"[1]\"\n",
            "  },\n",
            "  \"notes\": [\n",
            "    \"Modern usage encompasses both physical books and digital ebooks. [5]\"\n",
            "  ],\n",
            "  \"sources\": {\n",
            "    \"primary_definition\": \"[5]\",\n",
            "    \"physical_format_and_components\": \"[1]\"\n",
            "  }\n",
            "}\n"
          ]
        },
        {
          "output_type": "execute_result",
          "data": {
            "text/plain": [
              "{'query': 'what is a book',\n",
              " 'answer': 'A book is a structured presentation of recorded information—typically verbal and/or graphical—contained in a medium; historically this meant printed pages bound together, and today it also includes electronic books (ebooks). [5]',\n",
              " 'details': {'physical_definition': 'In its traditional form, a book is a series of pages or sheets bound together within covers, with most modern pages made from uncoated paper stock. [1]',\n",
              "  'common_components': ['cover',\n",
              "   'title page',\n",
              "   'copyright page',\n",
              "   'table of contents',\n",
              "   'introduction',\n",
              "   'body',\n",
              "   'conclusion',\n",
              "   'back cover'],\n",
              "  'source_for_components': '[1]'},\n",
              " 'notes': ['Modern usage encompasses both physical books and digital ebooks. [5]'],\n",
              " 'sources': {'primary_definition': '[5]',\n",
              "  'physical_format_and_components': '[1]'}}"
            ]
          },
          "metadata": {},
          "execution_count": 17
        }
      ],
      "source": [
        "input_prompt = \"what is a book\"\n",
        "y_input = [{\"role\" : \"user\", \"content\" : input_prompt}]\n",
        "get_chat_model_completions(y_input, json_format = True)"
      ]
    },
    {
      "cell_type": "code",
      "execution_count": 18,
      "metadata": {
        "id": "Z2RziUSN5FkG"
      },
      "outputs": [],
      "source": [
        "def moderation_check(user_input):\n",
        "  client = OpenAI(api_key=openai_key)\n",
        "  response = client.moderations.create(input=user_input)\n",
        "  # print(response)\n",
        "\n",
        "  moderation_output = response.results[0].flagged\n",
        "\n",
        "  if response.results[0].flagged == True:\n",
        "    return \"Flagged\"\n",
        "  else:\n",
        "    return \"Not Flagged\""
      ]
    },
    {
      "cell_type": "code",
      "execution_count": 19,
      "metadata": {
        "colab": {
          "base_uri": "https://localhost:8080/",
          "height": 36
        },
        "id": "fIvAqbX75K2Y",
        "outputId": "9371eea5-838d-496c-f478-ae19ed32ce0e"
      },
      "outputs": [
        {
          "output_type": "execute_result",
          "data": {
            "text/plain": [
              "'Not Flagged'"
            ],
            "application/vnd.google.colaboratory.intrinsic+json": {
              "type": "string"
            }
          },
          "metadata": {},
          "execution_count": 19
        }
      ],
      "source": [
        "# unit test\n",
        "\n",
        "moderation_check(input_prompt)"
      ]
    },
    {
      "cell_type": "code",
      "execution_count": 39,
      "metadata": {
        "id": "T8IxnHiA6AZX"
      },
      "outputs": [],
      "source": [
        "def intent_confirmation_layer(response_assistant):\n",
        "    delimiter = \"####\"\n",
        "    prompt = f\"\"\" You are a senior evaluator with an eye for detail. The input text will contain user input captured. \\n\n",
        "    You need to evaluate the input and confirm if all the keys are captured in the dictionary.\n",
        "    The input text would be following keys:\n",
        "    {{\n",
        "    'categories' : '_',\n",
        "    'book size' : '_',\n",
        "    'author' : '_',\n",
        "    'title' : '_',\n",
        "    'book age' : '_'\n",
        "    }}\n",
        "    {delimiter}\n",
        "    You give a response in JSON format. Only output a one-word string in JSON format at the key 'result' - Yes/No.\n",
        "    {delimiter}\n",
        "\n",
        "    Thought 1: Respond with a single word 'Yes' if all the keys are captured in the dictionary.  \\n\n",
        "    Thought 2: If any of the keys are not captured, respond with a single word 'NO' and then list the keys which are not captured in the dictionary. \\n\n",
        "    Thought 3: Respond \"YES\" only if all the keys are captured in the dictionary.\n",
        "    Thought 4: Think carefully before answering.\n",
        "    {delimiter}\n",
        "    \"\"\"\n",
        "    messages = [\n",
        "        {\"role\": \"system\", \"content\": prompt},\n",
        "        {\"role\": \"user\", \"content\": response_assistant}\n",
        "    ]\n",
        "\n",
        "    response = client.chat.completions.create(\n",
        "        model=model_name,\n",
        "        messages=messages,\n",
        "        temperature=0,\n",
        "        seed=3456\n",
        "    )\n",
        "    # print(response.choices[0].message.content)\n",
        "    output = json.loads(response.choices[0].message.content)\n",
        "    return output\n"
      ]
    },
    {
      "cell_type": "code",
      "execution_count": 42,
      "metadata": {
        "id": "_PeyssQ7laDA",
        "outputId": "ace094a4-cb3b-431f-b2d2-45120d5f4811",
        "colab": {
          "base_uri": "https://localhost:8080/",
          "height": 36
        }
      },
      "outputs": [
        {
          "output_type": "execute_result",
          "data": {
            "text/plain": [
              "'Yes'"
            ],
            "application/vnd.google.colaboratory.intrinsic+json": {
              "type": "string"
            }
          },
          "metadata": {},
          "execution_count": 42
        }
      ],
      "source": [
        "# unit test for intent confirmation layer\n",
        "sample_response = \"\"\"{\n",
        "    \"categories\": \"thriller\",\n",
        "    \"book size\": \"short\",\n",
        "    \"author\": \"sidney sheldon\",\n",
        "    \"title\": \"no preference\",\n",
        "    \"book age\": \"no preference\"\n",
        "}\"\"\"\n",
        "intent_confirmation_layer(sample_response)['result']"
      ]
    },
    {
      "cell_type": "code",
      "source": [
        "sample_response_2 = \"\"\"\n",
        "{'categories': '', 'book size': 'No Preference', 'author': 'No Preference', 'title': 'No Preference', 'book age': 'No Preference'}\n",
        "\"\"\"\n",
        "\n",
        "intent_confirmation_layer(sample_response_2)['result']"
      ],
      "metadata": {
        "id": "E31NolrkqI-8",
        "outputId": "5b951fd3-f357-4f79-97b7-bc0cecdcfc7c",
        "colab": {
          "base_uri": "https://localhost:8080/",
          "height": 36
        }
      },
      "execution_count": 50,
      "outputs": [
        {
          "output_type": "execute_result",
          "data": {
            "text/plain": [
              "'Yes'"
            ],
            "application/vnd.google.colaboratory.intrinsic+json": {
              "type": "string"
            }
          },
          "metadata": {},
          "execution_count": 50
        }
      ]
    },
    {
      "cell_type": "code",
      "execution_count": 43,
      "metadata": {
        "id": "hMKLWjsylaDA"
      },
      "outputs": [],
      "source": [
        "def iterate_llm_response(funct, debug_response, num = 10):\n",
        "    \"\"\"\n",
        "    Calls a specified function repeatedly and prints the results.\n",
        "    This function is designed to test the consistency of a response from a given function.\n",
        "    It calls the function multiple times (default is 10) and prints out the iteration count,\n",
        "    the function's response(s).\n",
        "    Args:\n",
        "        funct (function): The function to be tested. This function should accept a single argument\n",
        "                          and return the response value(s).\n",
        "        debug_response (dict): The input argument to be passed to 'funct' on each call.\n",
        "        num (int, optional): The number of times 'funct' will be called. Defaults to 10.\n",
        "    Returns:\n",
        "        This function only returns the results to the console.\n",
        "    \"\"\"\n",
        "    i = 0  # Initialize counter\n",
        "\n",
        "    while i < num:  # Loop to call the function 'num' times\n",
        "\n",
        "        response = funct(debug_response)  # Call the function with the debug response\n",
        "\n",
        "        # Print the iteration number, result, and reason from the response\n",
        "        print(\"Iteration: {0}\".format(i))\n",
        "        print(response)\n",
        "        print('-' * 50)  # Print a separator line for readability\n",
        "        i += 1  # Increment the counter"
      ]
    },
    {
      "cell_type": "code",
      "execution_count": 44,
      "metadata": {
        "id": "neCeqfnulaDB",
        "outputId": "1ca00687-997d-4c8d-8c04-18c531e1584e",
        "colab": {
          "base_uri": "https://localhost:8080/"
        }
      },
      "outputs": [
        {
          "output_type": "stream",
          "name": "stdout",
          "text": [
            "Iteration: 0\n",
            "{'result': 'Yes'}\n",
            "--------------------------------------------------\n",
            "Iteration: 1\n",
            "{'result': 'Yes'}\n",
            "--------------------------------------------------\n",
            "Iteration: 2\n",
            "{'result': 'Yes'}\n",
            "--------------------------------------------------\n",
            "Iteration: 3\n",
            "{'result': 'Yes'}\n",
            "--------------------------------------------------\n",
            "Iteration: 4\n",
            "{'result': 'Yes'}\n",
            "--------------------------------------------------\n",
            "Iteration: 5\n",
            "{'result': 'Yes'}\n",
            "--------------------------------------------------\n",
            "Iteration: 6\n",
            "{'result': 'Yes'}\n",
            "--------------------------------------------------\n",
            "Iteration: 7\n",
            "{'result': 'Yes'}\n",
            "--------------------------------------------------\n",
            "Iteration: 8\n",
            "{'result': 'Yes'}\n",
            "--------------------------------------------------\n",
            "Iteration: 9\n",
            "{'result': 'Yes'}\n",
            "--------------------------------------------------\n"
          ]
        }
      ],
      "source": [
        "iterate_llm_response(intent_confirmation_layer, sample_response, num=10)"
      ]
    },
    {
      "cell_type": "code",
      "execution_count": 25,
      "metadata": {
        "id": "56i7hlLdlaDB"
      },
      "outputs": [],
      "source": [
        "def generate_recommendation(final_user_input):\n",
        "    delimiter = \"####\"\n",
        "    prompt = f\"\"\"You are an expert book recommender. You will be given a python dictionary\n",
        "    with keys like 'categories', 'book size', 'author', 'title' and 'book age'.\n",
        "    Your task is to generate a top 3 book recommendations based on the provided information. The corpus of books you can recommend is available in pandas dataframe {df}. \\n\n",
        "\n",
        "    Here are some instructions around the inputs you receive that you can use to generate the recommendation.\n",
        "    - 'categories' refers to one of the genres like history, fiction, non-fiction,\n",
        "    - 'book size' refers to the size of the book. which can be small, medium or large. 'small' implies less than 100 pages, 'medium' implies between 100 and 300 pages, and 'large' implies more than 300 pages.\n",
        "    - 'author' refers to the author of the book.\n",
        "    - 'title' refers to the title of the book.\n",
        "    - 'book age' refers to the year of publication. If 'book age' is 'new', it means the book was published in the last 5 years, 'old' means it was published between 5 and 20 years ago, and 'very old' means it was published more than 20 years ago.\n",
        "\n",
        "    Thought 1: Use the values in the dictionary to filter the dataframe and find books that match the user's preferences.\n",
        "    Thought 2: If the user has no preference for a key, you can use the available keys and recommend books based on the other keys.\n",
        "    Thought 3: In case of many matches , you can select the books with highest value of ratings_count and mention that in your response that these are popular books.\n",
        "    Thought 4:\n",
        "    {delimiter}\n",
        "    The input dictionary is as follows:\n",
        "    {final_user_input}\n",
        "    {delimiter}\n",
        "    Please provide your book recommendations in following format:\n",
        "    \\n\\n\n",
        "    Here are some recommendations for you to read: \\n\\n\n",
        "\n",
        "    Recommendation 1: <book_title> by <author> <URL>\n",
        "    Recommendation 2: <book_title> by <author> <URL>\n",
        "    Recommendation 3: <book_title> by <author> <URL>\n",
        "    \"\"\"\n",
        "    messages = [\n",
        "        {\"role\": \"system\", \"content\": prompt},\n",
        "        {\"role\": \"user\", \"content\": final_user_input}\n",
        "    ]\n",
        "\n",
        "    response = client.chat.completions.create(\n",
        "        model=model_name,\n",
        "        messages=messages,\n",
        "        temperature=0,\n",
        "        seed=4567\n",
        "    )\n",
        "    # print(response.choices[0].message.content)\n",
        "    output = response.choices[0].message.content\n",
        "    # output = json.loads(response.choices[0].message.content)\n",
        "    return output"
      ]
    },
    {
      "cell_type": "code",
      "execution_count": 45,
      "metadata": {
        "id": "qKyERNchlaDC",
        "outputId": "85e1178a-5a5d-44dc-b0d8-1ad693b52f60",
        "colab": {
          "base_uri": "https://localhost:8080/"
        }
      },
      "outputs": [
        {
          "output_type": "stream",
          "name": "stdout",
          "text": [
            "Here are some recommendations for you to read: \n",
            "\n",
            "Recommendation 1: The Doomsday Conspiracy by Sidney Sheldon http://books.google.com/books/content?id=3kYJAAAACAAJ&printsec=frontcover&img=1&zoom=1\n",
            "\n",
            "Recommendation 2: The Best Laid Plans by Sidney Sheldon http://books.google.com/books/content?id=K7V9QgAACAAJ&printsec=frontcover&img=1&zoom=1\n",
            "\n",
            "Recommendation 3: Are You Afraid of the Dark? by Sidney Sheldon http://books.google.com/books/content?id=p3w8PQAACAAJ&printsec=frontcover&img=1&zoom=1\n"
          ]
        }
      ],
      "source": [
        "print(generate_recommendation(sample_response))"
      ]
    },
    {
      "cell_type": "code",
      "execution_count": 47,
      "metadata": {
        "id": "RknI9haJlaDC"
      },
      "outputs": [],
      "source": [
        "def dialogue_mgmt_system():\n",
        "    conversation = initialize_conversation()\n",
        "    print(\"Welcome to the Book Recommendation Chatbot!\")\n",
        "    print(\"I am here to help you find the perfect book based on your preferences.\")\n",
        "    print(\"At any point, if you want to exit, just type 'exit' or 'quit'.\")\n",
        "\n",
        "    # user_input = ''\n",
        "\n",
        "    while True:\n",
        "        user_input = input(\"\")\n",
        "\n",
        "        if user_input.lower() in ['exit', 'quit']:\n",
        "            print(\"Thank you for using the Book Recommendation Chatbot. Goodbye!\")\n",
        "            break\n",
        "\n",
        "        if moderation_check(user_input) == \"Flagged\":\n",
        "            print(\"Assistant: Your input has been flagged for inappropriate content. Please try again with a new conversation.\")\n",
        "            break\n",
        "\n",
        "        conversation.append({\"role\": \"user\", \"content\": user_input})\n",
        "        response = get_chat_model_completions(conversation, json_format=False)\n",
        "        print(response)\n",
        "\n",
        "        if intent_confirmation_layer(response)['result'] == 'No':\n",
        "            conversation.append({\"role\": \"assistant\", \"content\": json.dumps(response)})\n",
        "            continue\n",
        "\n",
        "        conversation.append({\"role\": \"assistant\", \"content\": json.dumps(response)})\n",
        "        # print(f\"Assistant: {json.dumps(response, indent=2)}\")\n",
        "\n",
        "        recommendation = generate_recommendation(json.dumps(response))\n",
        "        print(\"*\"*100)\n",
        "        print(f\"{recommendation}\")\n",
        "        print(\"*\"*100)\n",
        "\n",
        "        print(f\"Thank you for using the Book Recommendation Chatbot! Have a nice day!!\")\n",
        "        break"
      ]
    },
    {
      "cell_type": "code",
      "execution_count": 48,
      "metadata": {
        "id": "iZd8FJSHlaDD",
        "outputId": "69bee687-5414-430c-88cb-435575fc798a",
        "colab": {
          "base_uri": "https://localhost:8080/"
        }
      },
      "outputs": [
        {
          "output_type": "stream",
          "name": "stdout",
          "text": [
            "Welcome to the Book Recommendation Chatbot!\n",
            "I am here to help you find the perfect book based on your preferences.\n",
            "At any point, if you want to exit, just type 'exit' or 'quit'.\n",
            "short history book\n",
            "Welcome! I’d love to help you find a short history book that fits your taste. To tailor recommendations, could you tell me:\n",
            "\n",
            "- What **category/genre of history** are you interested in (e.g., world history, a country or city like Paris, a theme like science or democracy, biographies, ancient/medieval/modern)?\n",
            "- What **book size** do you prefer: **small**, **medium**, or **large**?\n",
            "- Any preferred **author** or a specific **title** you have in mind?\n",
            "- Do you care about the **book’s age**: **new**, **old**, **very old**, or No Preference?\n",
            "\n",
            "Based on “short history book,” here are a few concise options across different angles, in case any spark interest:\n",
            "- The Shortest History series (very compact overviews on topics like democracy, the world, etc.).[2]\n",
            "- Paris: A Short History by Jeremy Black (crisp city history, recent publication).[3]\n",
            "- Curated short reads list (e.g., Lifeboat No. 8 is ~70 pages on the Titanic).[4]\n",
            "- Bloomsbury’s Short Histories series (compact, authoritative, with bibliographies).[1]\n",
            "\n",
            "Once you share your preferences, I’ll refine the list precisely for you.\n",
            "\n",
            "Current preferences captured:\n",
            "{'categories': 'No Preference', 'book size': 'No Preference', 'author': 'No Preference', 'title': 'No Preference', 'book age': 'No Preference'}\n",
            "****************************************************************************************************\n",
            "Here are some recommendations for you to read: \n",
            "\n",
            "Recommendation 1: The Four Loves by C. S. Lewis http://books.google.com/books/content?id=XhQ5X0F5lGQC&printsec=frontcover&img=1&zoom=1\n",
            "\n",
            "Recommendation 2: Fahrenheit 451 by Ray Bradbury http://books.google.com/books/content?id=&printsec=frontcover&img=1&zoom=1\n",
            "\n",
            "Recommendation 3: Rage of angels by Sidney Sheldon http://books.google.com/books/content?id=FKo2T3K1P8MC&printsec=frontcover&img=1&zoom=1\n",
            "****************************************************************************************************\n",
            "Thank you for using the Book Recommendation Chatbot! Have a nice day!!\n"
          ]
        }
      ],
      "source": [
        "dialogue_mgmt_system()"
      ]
    }
  ],
  "metadata": {
    "colab": {
      "provenance": [],
      "include_colab_link": true
    },
    "kernelspec": {
      "display_name": "Python 3",
      "language": "python",
      "name": "python3"
    },
    "language_info": {
      "codemirror_mode": {
        "name": "ipython",
        "version": 3
      },
      "file_extension": ".py",
      "mimetype": "text/x-python",
      "name": "python",
      "nbconvert_exporter": "python",
      "pygments_lexer": "ipython3",
      "version": "3.9.6"
    }
  },
  "nbformat": 4,
  "nbformat_minor": 0
}